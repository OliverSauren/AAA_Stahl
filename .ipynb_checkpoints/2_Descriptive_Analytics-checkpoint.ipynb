{
 "cells": [
  {
   "cell_type": "markdown",
   "id": "0b87866a",
   "metadata": {},
   "source": [
    "# Descriptive Analytics"
   ]
  },
  {
   "cell_type": "markdown",
   "id": "7d23e171",
   "metadata": {},
   "source": [
    "## Data Overview"
   ]
  },
  {
   "cell_type": "code",
   "execution_count": null,
   "id": "d54e2219",
   "metadata": {},
   "outputs": [],
   "source": [
    "import pandas as pd\n",
    "import numpy as np\n",
    "import seaborn as sns\n",
    "import matplotlib.pyplot as plt\n",
    "import geopandas as gpd\n",
    "from shapely.geometry.polygon import Polygon\n",
    "from h3 import h3 \n",
    "from shapely.geometry import shape\n",
    "from shapely.geometry import Point"
   ]
  },
  {
   "cell_type": "code",
   "execution_count": null,
   "id": "cbda399a",
   "metadata": {},
   "outputs": [],
   "source": [
    "df=pd.read_csv('taxi_2017_complete_preprocessed.csv', parse_dates=[\"start_time\",\"end_time\"])"
   ]
  },
  {
   "cell_type": "code",
   "execution_count": null,
   "id": "d49d64fd",
   "metadata": {},
   "outputs": [],
   "source": [
    "df.info()"
   ]
  },
  {
   "cell_type": "code",
   "execution_count": null,
   "id": "70e09df4",
   "metadata": {},
   "outputs": [],
   "source": [
    "df.head(3)"
   ]
  },
  {
   "cell_type": "code",
   "execution_count": null,
   "id": "abab7f5e",
   "metadata": {},
   "outputs": [],
   "source": [
    "df.tail(3)"
   ]
  },
  {
   "cell_type": "markdown",
   "id": "778d0123",
   "metadata": {},
   "source": [
    "## Temporal Demand Patterns"
   ]
  },
  {
   "cell_type": "code",
   "execution_count": null,
   "id": "52aa0a76",
   "metadata": {},
   "outputs": [],
   "source": [
    "df[\"Date\"] = df[\"start_time\"].apply(lambda x: x.date())\n",
    "df[\"Weekday\"]= df[\"start_time\"].apply(lambda x: x.weekday())\n",
    "df[\"Hour\"] = df[\"start_time\"].apply(lambda x: x.hour)\n",
    "df['Month'] = df[\"start_time\"].apply(lambda x: x.month)\n",
    "df.head(3)"
   ]
  },
  {
   "cell_type": "markdown",
   "id": "5ecd52ea",
   "metadata": {},
   "source": [
    "### Usage During a Day"
   ]
  },
  {
   "cell_type": "code",
   "execution_count": null,
   "id": "e311531e",
   "metadata": {},
   "outputs": [],
   "source": [
    "# number of trips for every hour on a day\n",
    "trips_day = np.zeros(24)\n",
    "for i in range(24):\n",
    "    trips_day[i] = len(df[df['Hour']==i])\n",
    "    \n",
    "time = pd.DataFrame({'Time_Period': range(24), 'Trips': trips_day})\n",
    "time.head()"
   ]
  },
  {
   "cell_type": "code",
   "execution_count": null,
   "id": "e331d358",
   "metadata": {},
   "outputs": [],
   "source": [
    "# hourly demand\n",
    "plt.figure(figsize=(8,4))\n",
    "plt.plot(time['Time_Period'],time['Trips'],'o-', color='blue')\n",
    "plt.xlabel(\"Time of Day (in hours)\")\n",
    "plt.ylabel(\"Number of Trips\")\n",
    "plt.title(\"Number of Trips per Time of Day\")\n",
    "#plt.savefig(\"daily demand.png\")\n",
    "plt.show()"
   ]
  },
  {
   "cell_type": "markdown",
   "id": "7286e8ff",
   "metadata": {},
   "source": [
    "### Usage during a Week"
   ]
  },
  {
   "cell_type": "code",
   "execution_count": null,
   "id": "2598d914",
   "metadata": {},
   "outputs": [],
   "source": [
    "weekdays =['Monday', 'Tuesday', 'Wednesday', 'Thursday', 'Friday', 'Saturday', 'Sunday']\n",
    "trips_week=np.zeros(7)\n",
    "for i in range(7):\n",
    "    trips_week[i] = len(df[df[\"Weekday\"]==i])\n",
    "    \n",
    "weekdaysize = pd.DataFrame({'Weekday': weekdays, 'Trips': trips_week})\n",
    "weekdaysize"
   ]
  },
  {
   "cell_type": "code",
   "execution_count": null,
   "id": "b1f56ad7",
   "metadata": {},
   "outputs": [],
   "source": [
    "# weekly demand\n",
    "plt.figure(figsize=(8,4))\n",
    "plt.plot(weekdaysize[\"Weekday\"], weekdaysize[\"Trips\"],'o-', color='blue')\n",
    "plt.ylabel(\"Number of Trips\")\n",
    "plt.title(\"Number of Trips on Different Days\")\n",
    "#plt.savefig(\"weekly demand.png\")\n",
    "plt.show()"
   ]
  },
  {
   "cell_type": "code",
   "execution_count": null,
   "id": "4a3de933",
   "metadata": {},
   "outputs": [],
   "source": [
    "# Warum so wenige Samstag und Sonntag?"
   ]
  },
  {
   "cell_type": "markdown",
   "id": "6889c4ee",
   "metadata": {},
   "source": [
    "### Usage during a Year"
   ]
  },
  {
   "cell_type": "code",
   "execution_count": null,
   "id": "ad0bab3f",
   "metadata": {},
   "outputs": [],
   "source": [
    "months=[\"January\",\"February\",\"March\",\"April\",\"May\",\"June\",\"July\",\"August\",\"September\",\"Oktober\",\"November\",\"December\"]"
   ]
  },
  {
   "cell_type": "code",
   "execution_count": null,
   "id": "6bc01934",
   "metadata": {},
   "outputs": [],
   "source": [
    "trips_month = np.zeros(12)\n",
    "for i in range(12):\n",
    "    trips_month[i]= len(df[df[\"Month\"]==i+1])\n",
    "\n",
    "year= pd.DataFrame({'Months':months, 'Trips':trips_month})\n",
    "year"
   ]
  },
  {
   "cell_type": "code",
   "execution_count": null,
   "id": "b81822a8",
   "metadata": {},
   "outputs": [],
   "source": [
    "# yearly demand\n",
    "plt.figure(figsize=(12,4))\n",
    "plt.plot(year[\"Months\"], year[\"Trips\"],'o-', color='blue')\n",
    "plt.ylabel(\"Number of Trips\")\n",
    "plt.title(\"Number of Trips in Different Months\")\n",
    "#plt.savefig(\"yearly demand.png\")\n",
    "plt.show()"
   ]
  },
  {
   "cell_type": "code",
   "execution_count": null,
   "id": "1afb09cb",
   "metadata": {},
   "outputs": [],
   "source": [
    "# Warum so wenige im November und Dezember?"
   ]
  },
  {
   "cell_type": "code",
   "execution_count": null,
   "id": "ef386f49",
   "metadata": {},
   "outputs": [],
   "source": [
    "# Seasonal Comparison??"
   ]
  },
  {
   "cell_type": "markdown",
   "id": "06ac18a3",
   "metadata": {},
   "source": [
    "## Spatial Analysis"
   ]
  },
  {
   "cell_type": "markdown",
   "id": "218f6f9f",
   "metadata": {},
   "source": [
    "### Load Data and Data Overview"
   ]
  },
  {
   "cell_type": "code",
   "execution_count": null,
   "id": "40f18b21",
   "metadata": {},
   "outputs": [],
   "source": [
    "#df_geo = gpd.read_file('taxi_2017_complete_preprocessed.csv')"
   ]
  },
  {
   "cell_type": "code",
   "execution_count": null,
   "id": "e732dc74",
   "metadata": {},
   "outputs": [],
   "source": [
    "# community data from \"extra files\" for community bounderies\n",
    "communities_gdf=gpd.read_file('extra_dataframes/Community Areas (current).geojson')\n",
    "communities_gdf.head(2)"
   ]
  },
  {
   "cell_type": "code",
   "execution_count": null,
   "id": "6ef2f00f",
   "metadata": {},
   "outputs": [],
   "source": [
    "communities_gdf.info()"
   ]
  },
  {
   "cell_type": "code",
   "execution_count": null,
   "id": "a6dc2c27",
   "metadata": {},
   "outputs": [],
   "source": [
    "# Plot Communities of Chicago\n",
    "communities_gdf.plot()"
   ]
  },
  {
   "cell_type": "code",
   "execution_count": null,
   "id": "5bda103d",
   "metadata": {},
   "outputs": [],
   "source": [
    "# census data from \"extra files\" for census bounderies\n",
    "census=gpd.read_file('extra_dataframes/Census Tracts - 2010.geojson')\n",
    "census.head(2)"
   ]
  },
  {
   "cell_type": "code",
   "execution_count": null,
   "id": "e2875ecb",
   "metadata": {
    "scrolled": true
   },
   "outputs": [],
   "source": [
    "# Plot Census Tracts of Chicago\n",
    "census.plot()"
   ]
  },
  {
   "cell_type": "code",
   "execution_count": null,
   "id": "0cdf69ed",
   "metadata": {},
   "outputs": [],
   "source": [
    "census.info()"
   ]
  },
  {
   "cell_type": "code",
   "execution_count": null,
   "id": "81b6cb10",
   "metadata": {},
   "outputs": [],
   "source": [
    "df['start_time'] = pd.to_datetime(df['start_time'])"
   ]
  },
  {
   "cell_type": "code",
   "execution_count": null,
   "id": "d96a0b25",
   "metadata": {},
   "outputs": [],
   "source": [
    "# Convert taxi_trips DataFrame to a GeoDataFrame\n",
    "taxi_trips = gpd.GeoDataFrame(\n",
    "    df,\n",
    "    geometry=gpd.points_from_xy(df.start_longitude, df.start_latitude)\n",
    ")"
   ]
  },
  {
   "cell_type": "code",
   "execution_count": null,
   "id": "3efe6b46",
   "metadata": {},
   "outputs": [],
   "source": [
    "# Merge the taxi trips data with the census tract boundaries based on spatial intersection\n",
    "taxi_trips_tracts = gpd.sjoin(taxi_trips, census[['geoid10','geometry']], how = 'left', op='within')"
   ]
  },
  {
   "cell_type": "code",
   "execution_count": null,
   "id": "4dc7de5d",
   "metadata": {},
   "outputs": [],
   "source": [
    "taxi_trips_tracts.info()"
   ]
  },
  {
   "cell_type": "code",
   "execution_count": null,
   "id": "bf98b0fb",
   "metadata": {},
   "outputs": [],
   "source": []
  },
  {
   "cell_type": "code",
   "execution_count": null,
   "id": "a3c023f3",
   "metadata": {},
   "outputs": [],
   "source": []
  },
  {
   "cell_type": "markdown",
   "id": "28e58d3a",
   "metadata": {},
   "source": [
    "### Start Time Variation"
   ]
  },
  {
   "cell_type": "code",
   "execution_count": null,
   "id": "8eb9c3f5",
   "metadata": {},
   "outputs": [],
   "source": [
    "# Convert the 'start_time' column to Unix timestamps\n",
    "taxi_trips_tracts['start_time'] = (taxi_trips_tracts['start_time'] - pd.Timestamp('1970-01-01')) // pd.Timedelta(seconds=1)"
   ]
  },
  {
   "cell_type": "code",
   "execution_count": null,
   "id": "a5fba5ec",
   "metadata": {},
   "outputs": [],
   "source": [
    "# Calculate the average start time for each census tract\n",
    "tract_avg_start_time = taxi_trips_tracts.groupby('geoid10')['start_time'].mean()\n",
    "tract_avg_start_time.info()"
   ]
  },
  {
   "cell_type": "code",
   "execution_count": null,
   "id": "4c44954d",
   "metadata": {},
   "outputs": [],
   "source": [
    "# Merge the average start time data with the census tract boundaries\n",
    "census_avg_start_time = census.merge(tract_avg_start_time, left_on='geoid10', right_index=True)"
   ]
  },
  {
   "cell_type": "code",
   "execution_count": null,
   "id": "5c784b0f",
   "metadata": {},
   "outputs": [],
   "source": [
    "import matplotlib.dates as mdates\n",
    "\n",
    "# Create the plot\n",
    "fig, ax = plt.subplots(figsize=(10, 10))\n",
    "census_avg_start_time.plot(column='start_time', cmap='viridis', linewidth=0.8, ax=ax, edgecolor='0.8', legend=True)\n",
    "\n",
    "# Format the legend to display datetime values\n",
    "legend = ax.get_legend()\n",
    "if legend:\n",
    "    date_format = mdates.DateFormatter('%Y-%m-%d %H:%M:%S')\n",
    "    legend.set_title('Average Start Time')\n",
    "    legend.set_bbox_to_anchor((1.2, 1))\n",
    "    legend.set_frame_on(False)\n",
    "    legend.set_yticklabels([date_format(x) for x in legend.get_yticks()])\n",
    "\n",
    "ax.set_title('Average Start Time by Census Tract')\n",
    "plt.show()"
   ]
  },
  {
   "cell_type": "markdown",
   "id": "1f479afc",
   "metadata": {},
   "source": [
    "### Trip Length Variation"
   ]
  },
  {
   "cell_type": "code",
   "execution_count": null,
   "id": "8daaa762",
   "metadata": {},
   "outputs": [],
   "source": [
    "# Calculate the average trip length for each census tract\n",
    "tract_avg_trip_length = taxi_trips_tracts.groupby('geoid10')['trip_seconds'].mean()\n",
    "tract_avg_trip_length.info()"
   ]
  },
  {
   "cell_type": "code",
   "execution_count": null,
   "id": "e8859c80",
   "metadata": {},
   "outputs": [],
   "source": [
    "# Merge the average trip length data with the census tract bounderies\n",
    "census_avg_trip_length = census.merge(tract_avg_trip_length, left_on='geoid10', right_index=True)"
   ]
  },
  {
   "cell_type": "code",
   "execution_count": null,
   "id": "fa5693ed",
   "metadata": {},
   "outputs": [],
   "source": [
    "# Create the plot\n",
    "fig, ax = plt.subplots(figsize=(10, 10))\n",
    "census_avg_trip_length.plot(column='trip_seconds', cmap='viridis', linewidth=0.8, ax=ax, legend=True, legend_kwds={'label': \"Average Trip Length by Start Census Tract\"}, missing_kwds={'color': 'lightgrey'})\n",
    "ax.set_title('Average Trip Length by Community Area')\n",
    "plt.show()"
   ]
  },
  {
   "cell_type": "code",
   "execution_count": null,
   "id": "a3176d55",
   "metadata": {},
   "outputs": [],
   "source": [
    "# Ausprobieren\n",
    "geo_df = gpd.read_file('taxi_2017_complete_preprocessed.csv', parse_dates=[\"start_time\",\"end_time\"])"
   ]
  }
 ],
 "metadata": {
  "kernelspec": {
   "display_name": "Python 3 (ipykernel)",
   "language": "python",
   "name": "python3"
  },
  "language_info": {
   "codemirror_mode": {
    "name": "ipython",
    "version": 3
   },
   "file_extension": ".py",
   "mimetype": "text/x-python",
   "name": "python",
   "nbconvert_exporter": "python",
   "pygments_lexer": "ipython3",
   "version": "3.10.9"
  }
 },
 "nbformat": 4,
 "nbformat_minor": 5
}
