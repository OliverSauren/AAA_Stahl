{
 "cells": [
  {
   "cell_type": "markdown",
   "id": "0b87866a",
   "metadata": {},
   "source": [
    "# Descriptive Analytics"
   ]
  },
  {
   "cell_type": "markdown",
   "id": "7d23e171",
   "metadata": {},
   "source": [
    "## Data Overview"
   ]
  },
  {
   "cell_type": "code",
   "execution_count": 1,
   "id": "d54e2219",
   "metadata": {},
   "outputs": [],
   "source": [
    "import pandas as pd\n",
    "import numpy as np\n",
    "import seaborn as sns\n",
    "import matplotlib.pyplot as plt\n",
    "import matplotlib.colors as colors\n",
    "from matplotlib import gridspec\n",
    "import geopandas as gpd\n",
    "from shapely.geometry.polygon import Polygon\n",
    "from h3 import h3 \n",
    "from shapely.geometry import shape\n",
    "from shapely.geometry import Point"
   ]
  },
  {
   "cell_type": "code",
   "execution_count": 2,
   "id": "cbda399a",
   "metadata": {},
   "outputs": [],
   "source": [
    "df=pd.read_csv('taxi_2017_complete_preprocessed.csv', parse_dates=[\"start_time\",\"end_time\"])\n",
    "df=df.drop('Unnamed: 0',axis=1)"
   ]
  },
  {
   "cell_type": "code",
   "execution_count": 3,
   "id": "d49d64fd",
   "metadata": {},
   "outputs": [
    {
     "name": "stdout",
     "output_type": "stream",
     "text": [
      "<class 'pandas.core.frame.DataFrame'>\n",
      "RangeIndex: 21737166 entries, 0 to 21737165\n",
      "Data columns (total 30 columns):\n",
      " #   Column                     Dtype         \n",
      "---  ------                     -----         \n",
      " 0   start_time                 datetime64[ns]\n",
      " 1   end_time                   datetime64[ns]\n",
      " 2   trip_seconds               float64       \n",
      " 3   trip_miles                 float64       \n",
      " 4   start_census               float64       \n",
      " 5   end_census                 float64       \n",
      " 6   start_community            int64         \n",
      " 7   end_community              int64         \n",
      " 8   fare                       float64       \n",
      " 9   tips                       float64       \n",
      " 10  tolls                      float64       \n",
      " 11  extras                     float64       \n",
      " 12  trip_total                 float64       \n",
      " 13  payment_type               object        \n",
      " 14  company                    object        \n",
      " 15  start_latitude             float64       \n",
      " 16  start_longitude            float64       \n",
      " 17  Pickup Centroid Location   object        \n",
      " 18  end_latitude               float64       \n",
      " 19  end_longitude              float64       \n",
      " 20  Dropoff Centroid Location  object        \n",
      " 21  new_TaxiID                 int64         \n",
      " 22  dur_min                    float64       \n",
      " 23  date                       object        \n",
      " 24  weekday                    int64         \n",
      " 25  avg_temp                   float64       \n",
      " 26  precip                     float64       \n",
      " 27  hour                       int64         \n",
      " 28  day                        int64         \n",
      " 29  month                      int64         \n",
      "dtypes: datetime64[ns](2), float64(16), int64(7), object(5)\n",
      "memory usage: 4.9+ GB\n"
     ]
    }
   ],
   "source": [
    "df.info()"
   ]
  },
  {
   "cell_type": "code",
   "execution_count": 4,
   "id": "70e09df4",
   "metadata": {},
   "outputs": [
    {
     "data": {
      "text/html": [
       "<div>\n",
       "<style scoped>\n",
       "    .dataframe tbody tr th:only-of-type {\n",
       "        vertical-align: middle;\n",
       "    }\n",
       "\n",
       "    .dataframe tbody tr th {\n",
       "        vertical-align: top;\n",
       "    }\n",
       "\n",
       "    .dataframe thead th {\n",
       "        text-align: right;\n",
       "    }\n",
       "</style>\n",
       "<table border=\"1\" class=\"dataframe\">\n",
       "  <thead>\n",
       "    <tr style=\"text-align: right;\">\n",
       "      <th></th>\n",
       "      <th>start_time</th>\n",
       "      <th>end_time</th>\n",
       "      <th>trip_seconds</th>\n",
       "      <th>trip_miles</th>\n",
       "      <th>start_census</th>\n",
       "      <th>end_census</th>\n",
       "      <th>start_community</th>\n",
       "      <th>end_community</th>\n",
       "      <th>fare</th>\n",
       "      <th>tips</th>\n",
       "      <th>...</th>\n",
       "      <th>Dropoff Centroid Location</th>\n",
       "      <th>new_TaxiID</th>\n",
       "      <th>dur_min</th>\n",
       "      <th>date</th>\n",
       "      <th>weekday</th>\n",
       "      <th>avg_temp</th>\n",
       "      <th>precip</th>\n",
       "      <th>hour</th>\n",
       "      <th>day</th>\n",
       "      <th>month</th>\n",
       "    </tr>\n",
       "  </thead>\n",
       "  <tbody>\n",
       "    <tr>\n",
       "      <th>0</th>\n",
       "      <td>2017-01-01</td>\n",
       "      <td>2017-01-01 00:30:00</td>\n",
       "      <td>1800.0</td>\n",
       "      <td>0.0</td>\n",
       "      <td>1.703108e+10</td>\n",
       "      <td>1.703108e+10</td>\n",
       "      <td>8</td>\n",
       "      <td>8</td>\n",
       "      <td>13.25</td>\n",
       "      <td>4.25</td>\n",
       "      <td>...</td>\n",
       "      <td>POINT (-87.6262149064 41.8925077809)</td>\n",
       "      <td>2751</td>\n",
       "      <td>30.0</td>\n",
       "      <td>2017-01-01 00:00:00</td>\n",
       "      <td>6</td>\n",
       "      <td>-0.6</td>\n",
       "      <td>0.0</td>\n",
       "      <td>0</td>\n",
       "      <td>1</td>\n",
       "      <td>1</td>\n",
       "    </tr>\n",
       "    <tr>\n",
       "      <th>1</th>\n",
       "      <td>2017-01-01</td>\n",
       "      <td>2017-01-01 00:00:00</td>\n",
       "      <td>660.0</td>\n",
       "      <td>2.7</td>\n",
       "      <td>NaN</td>\n",
       "      <td>NaN</td>\n",
       "      <td>2</td>\n",
       "      <td>3</td>\n",
       "      <td>10.00</td>\n",
       "      <td>2.00</td>\n",
       "      <td>...</td>\n",
       "      <td>POINT (-87.6558787862 41.96581197)</td>\n",
       "      <td>5058</td>\n",
       "      <td>11.0</td>\n",
       "      <td>2017-01-01 00:00:00</td>\n",
       "      <td>6</td>\n",
       "      <td>-0.6</td>\n",
       "      <td>0.0</td>\n",
       "      <td>0</td>\n",
       "      <td>1</td>\n",
       "      <td>1</td>\n",
       "    </tr>\n",
       "    <tr>\n",
       "      <th>2</th>\n",
       "      <td>2017-01-01</td>\n",
       "      <td>2017-01-01 00:15:00</td>\n",
       "      <td>120.0</td>\n",
       "      <td>0.5</td>\n",
       "      <td>NaN</td>\n",
       "      <td>NaN</td>\n",
       "      <td>16</td>\n",
       "      <td>16</td>\n",
       "      <td>4.50</td>\n",
       "      <td>0.00</td>\n",
       "      <td>...</td>\n",
       "      <td>POINT (-87.7234523905 41.9535821253)</td>\n",
       "      <td>5047</td>\n",
       "      <td>2.0</td>\n",
       "      <td>2017-01-01 00:00:00</td>\n",
       "      <td>6</td>\n",
       "      <td>-0.6</td>\n",
       "      <td>0.0</td>\n",
       "      <td>0</td>\n",
       "      <td>1</td>\n",
       "      <td>1</td>\n",
       "    </tr>\n",
       "  </tbody>\n",
       "</table>\n",
       "<p>3 rows × 30 columns</p>\n",
       "</div>"
      ],
      "text/plain": [
       "  start_time            end_time  trip_seconds  trip_miles  start_census  \\\n",
       "0 2017-01-01 2017-01-01 00:30:00        1800.0         0.0  1.703108e+10   \n",
       "1 2017-01-01 2017-01-01 00:00:00         660.0         2.7           NaN   \n",
       "2 2017-01-01 2017-01-01 00:15:00         120.0         0.5           NaN   \n",
       "\n",
       "     end_census  start_community  end_community   fare  tips  ...  \\\n",
       "0  1.703108e+10                8              8  13.25  4.25  ...   \n",
       "1           NaN                2              3  10.00  2.00  ...   \n",
       "2           NaN               16             16   4.50  0.00  ...   \n",
       "\n",
       "              Dropoff Centroid Location  new_TaxiID  dur_min  \\\n",
       "0  POINT (-87.6262149064 41.8925077809)        2751     30.0   \n",
       "1    POINT (-87.6558787862 41.96581197)        5058     11.0   \n",
       "2  POINT (-87.7234523905 41.9535821253)        5047      2.0   \n",
       "\n",
       "                  date weekday  avg_temp  precip hour  day  month  \n",
       "0  2017-01-01 00:00:00       6      -0.6     0.0    0    1      1  \n",
       "1  2017-01-01 00:00:00       6      -0.6     0.0    0    1      1  \n",
       "2  2017-01-01 00:00:00       6      -0.6     0.0    0    1      1  \n",
       "\n",
       "[3 rows x 30 columns]"
      ]
     },
     "execution_count": 4,
     "metadata": {},
     "output_type": "execute_result"
    }
   ],
   "source": [
    "df.head(3)"
   ]
  },
  {
   "cell_type": "code",
   "execution_count": 5,
   "id": "abab7f5e",
   "metadata": {},
   "outputs": [
    {
     "data": {
      "text/html": [
       "<div>\n",
       "<style scoped>\n",
       "    .dataframe tbody tr th:only-of-type {\n",
       "        vertical-align: middle;\n",
       "    }\n",
       "\n",
       "    .dataframe tbody tr th {\n",
       "        vertical-align: top;\n",
       "    }\n",
       "\n",
       "    .dataframe thead th {\n",
       "        text-align: right;\n",
       "    }\n",
       "</style>\n",
       "<table border=\"1\" class=\"dataframe\">\n",
       "  <thead>\n",
       "    <tr style=\"text-align: right;\">\n",
       "      <th></th>\n",
       "      <th>start_time</th>\n",
       "      <th>end_time</th>\n",
       "      <th>trip_seconds</th>\n",
       "      <th>trip_miles</th>\n",
       "      <th>start_census</th>\n",
       "      <th>end_census</th>\n",
       "      <th>start_community</th>\n",
       "      <th>end_community</th>\n",
       "      <th>fare</th>\n",
       "      <th>tips</th>\n",
       "      <th>...</th>\n",
       "      <th>Dropoff Centroid Location</th>\n",
       "      <th>new_TaxiID</th>\n",
       "      <th>dur_min</th>\n",
       "      <th>date</th>\n",
       "      <th>weekday</th>\n",
       "      <th>avg_temp</th>\n",
       "      <th>precip</th>\n",
       "      <th>hour</th>\n",
       "      <th>day</th>\n",
       "      <th>month</th>\n",
       "    </tr>\n",
       "  </thead>\n",
       "  <tbody>\n",
       "    <tr>\n",
       "      <th>21737163</th>\n",
       "      <td>2017-12-31 23:45:00</td>\n",
       "      <td>2017-12-31 23:45:00</td>\n",
       "      <td>381.0</td>\n",
       "      <td>1.52</td>\n",
       "      <td>1.703124e+10</td>\n",
       "      <td>1.703184e+10</td>\n",
       "      <td>24</td>\n",
       "      <td>8</td>\n",
       "      <td>7.25</td>\n",
       "      <td>0.00</td>\n",
       "      <td>...</td>\n",
       "      <td>POINT (-87.6499072264 41.9049353016)</td>\n",
       "      <td>746</td>\n",
       "      <td>6.35</td>\n",
       "      <td>2017-12-31 00:00:00</td>\n",
       "      <td>6</td>\n",
       "      <td>-12.8</td>\n",
       "      <td>0.0</td>\n",
       "      <td>23</td>\n",
       "      <td>31</td>\n",
       "      <td>12</td>\n",
       "    </tr>\n",
       "    <tr>\n",
       "      <th>21737164</th>\n",
       "      <td>2017-12-31 23:45:00</td>\n",
       "      <td>2018-01-01 00:00:00</td>\n",
       "      <td>1116.0</td>\n",
       "      <td>5.50</td>\n",
       "      <td>NaN</td>\n",
       "      <td>NaN</td>\n",
       "      <td>8</td>\n",
       "      <td>6</td>\n",
       "      <td>17.25</td>\n",
       "      <td>3.85</td>\n",
       "      <td>...</td>\n",
       "      <td>POINT (-87.6559981815 41.9442266014)</td>\n",
       "      <td>973</td>\n",
       "      <td>18.60</td>\n",
       "      <td>2017-12-31 00:00:00</td>\n",
       "      <td>6</td>\n",
       "      <td>-12.8</td>\n",
       "      <td>0.0</td>\n",
       "      <td>23</td>\n",
       "      <td>31</td>\n",
       "      <td>12</td>\n",
       "    </tr>\n",
       "    <tr>\n",
       "      <th>21737165</th>\n",
       "      <td>2017-12-31 23:45:00</td>\n",
       "      <td>2018-01-01 00:00:00</td>\n",
       "      <td>926.0</td>\n",
       "      <td>0.20</td>\n",
       "      <td>1.703108e+10</td>\n",
       "      <td>1.703108e+10</td>\n",
       "      <td>8</td>\n",
       "      <td>8</td>\n",
       "      <td>8.25</td>\n",
       "      <td>0.00</td>\n",
       "      <td>...</td>\n",
       "      <td>POINT (-87.6288741572 41.8920726347)</td>\n",
       "      <td>5186</td>\n",
       "      <td>15.43</td>\n",
       "      <td>2017-12-31 00:00:00</td>\n",
       "      <td>6</td>\n",
       "      <td>-12.8</td>\n",
       "      <td>0.0</td>\n",
       "      <td>23</td>\n",
       "      <td>31</td>\n",
       "      <td>12</td>\n",
       "    </tr>\n",
       "  </tbody>\n",
       "</table>\n",
       "<p>3 rows × 30 columns</p>\n",
       "</div>"
      ],
      "text/plain": [
       "                  start_time            end_time  trip_seconds  trip_miles  \\\n",
       "21737163 2017-12-31 23:45:00 2017-12-31 23:45:00         381.0        1.52   \n",
       "21737164 2017-12-31 23:45:00 2018-01-01 00:00:00        1116.0        5.50   \n",
       "21737165 2017-12-31 23:45:00 2018-01-01 00:00:00         926.0        0.20   \n",
       "\n",
       "          start_census    end_census  start_community  end_community   fare  \\\n",
       "21737163  1.703124e+10  1.703184e+10               24              8   7.25   \n",
       "21737164           NaN           NaN                8              6  17.25   \n",
       "21737165  1.703108e+10  1.703108e+10                8              8   8.25   \n",
       "\n",
       "          tips  ...             Dropoff Centroid Location  new_TaxiID  \\\n",
       "21737163  0.00  ...  POINT (-87.6499072264 41.9049353016)         746   \n",
       "21737164  3.85  ...  POINT (-87.6559981815 41.9442266014)         973   \n",
       "21737165  0.00  ...  POINT (-87.6288741572 41.8920726347)        5186   \n",
       "\n",
       "          dur_min                 date weekday  avg_temp  precip hour  day  \\\n",
       "21737163     6.35  2017-12-31 00:00:00       6     -12.8     0.0   23   31   \n",
       "21737164    18.60  2017-12-31 00:00:00       6     -12.8     0.0   23   31   \n",
       "21737165    15.43  2017-12-31 00:00:00       6     -12.8     0.0   23   31   \n",
       "\n",
       "          month  \n",
       "21737163     12  \n",
       "21737164     12  \n",
       "21737165     12  \n",
       "\n",
       "[3 rows x 30 columns]"
      ]
     },
     "execution_count": 5,
     "metadata": {},
     "output_type": "execute_result"
    }
   ],
   "source": [
    "df.tail(3)"
   ]
  },
  {
   "cell_type": "code",
   "execution_count": 6,
   "id": "34758ca3",
   "metadata": {},
   "outputs": [
    {
     "data": {
      "text/plain": [
       "start_time                   21737166\n",
       "end_time                     21737166\n",
       "trip_seconds                 21737166\n",
       "trip_miles                   21737166\n",
       "start_census                 16500982\n",
       "end_census                   16500982\n",
       "start_community              21737166\n",
       "end_community                21737166\n",
       "fare                         21737166\n",
       "tips                         21737166\n",
       "tolls                        21737166\n",
       "extras                       21737166\n",
       "trip_total                   21737166\n",
       "payment_type                 21737166\n",
       "company                      21737166\n",
       "start_latitude               21737166\n",
       "start_longitude              21737166\n",
       "Pickup Centroid Location     21737166\n",
       "end_latitude                 21737166\n",
       "end_longitude                21737166\n",
       "Dropoff Centroid Location    21737166\n",
       "new_TaxiID                   21737166\n",
       "dur_min                      21737166\n",
       "date                         21737166\n",
       "weekday                      21737166\n",
       "avg_temp                     21737166\n",
       "precip                       21737166\n",
       "hour                         21737166\n",
       "day                          21737166\n",
       "month                        21737166\n",
       "dtype: int64"
      ]
     },
     "execution_count": 6,
     "metadata": {},
     "output_type": "execute_result"
    }
   ],
   "source": [
    "df.count()"
   ]
  },
  {
   "cell_type": "markdown",
   "id": "778d0123",
   "metadata": {},
   "source": [
    "## Temporal Demand Patterns"
   ]
  },
  {
   "cell_type": "markdown",
   "id": "5ecd52ea",
   "metadata": {},
   "source": [
    "### Usage During a Day"
   ]
  },
  {
   "cell_type": "code",
   "execution_count": 7,
   "id": "e311531e",
   "metadata": {},
   "outputs": [
    {
     "data": {
      "text/html": [
       "<div>\n",
       "<style scoped>\n",
       "    .dataframe tbody tr th:only-of-type {\n",
       "        vertical-align: middle;\n",
       "    }\n",
       "\n",
       "    .dataframe tbody tr th {\n",
       "        vertical-align: top;\n",
       "    }\n",
       "\n",
       "    .dataframe thead th {\n",
       "        text-align: right;\n",
       "    }\n",
       "</style>\n",
       "<table border=\"1\" class=\"dataframe\">\n",
       "  <thead>\n",
       "    <tr style=\"text-align: right;\">\n",
       "      <th></th>\n",
       "      <th>Time_Period</th>\n",
       "      <th>Trips</th>\n",
       "    </tr>\n",
       "  </thead>\n",
       "  <tbody>\n",
       "    <tr>\n",
       "      <th>0</th>\n",
       "      <td>0</td>\n",
       "      <td>627431.0</td>\n",
       "    </tr>\n",
       "    <tr>\n",
       "      <th>1</th>\n",
       "      <td>1</td>\n",
       "      <td>516845.0</td>\n",
       "    </tr>\n",
       "    <tr>\n",
       "      <th>2</th>\n",
       "      <td>2</td>\n",
       "      <td>411886.0</td>\n",
       "    </tr>\n",
       "    <tr>\n",
       "      <th>3</th>\n",
       "      <td>3</td>\n",
       "      <td>310360.0</td>\n",
       "    </tr>\n",
       "    <tr>\n",
       "      <th>4</th>\n",
       "      <td>4</td>\n",
       "      <td>224330.0</td>\n",
       "    </tr>\n",
       "  </tbody>\n",
       "</table>\n",
       "</div>"
      ],
      "text/plain": [
       "   Time_Period     Trips\n",
       "0            0  627431.0\n",
       "1            1  516845.0\n",
       "2            2  411886.0\n",
       "3            3  310360.0\n",
       "4            4  224330.0"
      ]
     },
     "execution_count": 7,
     "metadata": {},
     "output_type": "execute_result"
    }
   ],
   "source": [
    "# number of trips for every hour on a day\n",
    "trips_day = np.zeros(24)\n",
    "for i in range(24):\n",
    "    trips_day[i] = len(df[df['hour']==i])\n",
    "    \n",
    "time = pd.DataFrame({'Time_Period': range(24), 'Trips': trips_day})\n",
    "time.head()"
   ]
  },
  {
   "cell_type": "code",
   "execution_count": 8,
   "id": "e331d358",
   "metadata": {},
   "outputs": [
    {
     "data": {
      "image/png": "[encoded data removed]",
      "text/plain": [
       "<Figure size 800x400 with 1 Axes>"
      ]
     },
     "metadata": {},
     "output_type": "display_data"
    }
   ],
   "source": [
    "# hourly demand\n",
    "plt.figure(figsize=(8,4))\n",
    "plt.plot(time['Time_Period'],time['Trips'],'o-', color='blue')\n",
    "plt.xlabel(\"Time of Day (in hours)\")\n",
    "plt.ylabel(\"Number of Trips\")\n",
    "plt.title(\"Number of Trips per Time of Day\")\n",
    "#plt.savefig(\"daily demand.png\")\n",
    "plt.show()"
   ]
  },
  {
   "cell_type": "markdown",
   "id": "7286e8ff",
   "metadata": {},
   "source": [
    "### Usage during a Week"
   ]
  },
  {
   "cell_type": "code",
   "execution_count": 9,
   "id": "2598d914",
   "metadata": {},
   "outputs": [
    {
     "data": {
      "text/html": [
       "<div>\n",
       "<style scoped>\n",
       "    .dataframe tbody tr th:only-of-type {\n",
       "        vertical-align: middle;\n",
       "    }\n",
       "\n",
       "    .dataframe tbody tr th {\n",
       "        vertical-align: top;\n",
       "    }\n",
       "\n",
       "    .dataframe thead th {\n",
       "        text-align: right;\n",
       "    }\n",
       "</style>\n",
       "<table border=\"1\" class=\"dataframe\">\n",
       "  <thead>\n",
       "    <tr style=\"text-align: right;\">\n",
       "      <th></th>\n",
       "      <th>Weekday</th>\n",
       "      <th>Trips</th>\n",
       "    </tr>\n",
       "  </thead>\n",
       "  <tbody>\n",
       "    <tr>\n",
       "      <th>0</th>\n",
       "      <td>Monday</td>\n",
       "      <td>2774671.0</td>\n",
       "    </tr>\n",
       "    <tr>\n",
       "      <th>1</th>\n",
       "      <td>Tuesday</td>\n",
       "      <td>3124166.0</td>\n",
       "    </tr>\n",
       "    <tr>\n",
       "      <th>2</th>\n",
       "      <td>Wednesday</td>\n",
       "      <td>3362848.0</td>\n",
       "    </tr>\n",
       "    <tr>\n",
       "      <th>3</th>\n",
       "      <td>Thursday</td>\n",
       "      <td>3542624.0</td>\n",
       "    </tr>\n",
       "    <tr>\n",
       "      <th>4</th>\n",
       "      <td>Friday</td>\n",
       "      <td>3610376.0</td>\n",
       "    </tr>\n",
       "    <tr>\n",
       "      <th>5</th>\n",
       "      <td>Saturday</td>\n",
       "      <td>2915637.0</td>\n",
       "    </tr>\n",
       "    <tr>\n",
       "      <th>6</th>\n",
       "      <td>Sunday</td>\n",
       "      <td>2406844.0</td>\n",
       "    </tr>\n",
       "  </tbody>\n",
       "</table>\n",
       "</div>"
      ],
      "text/plain": [
       "     Weekday      Trips\n",
       "0     Monday  2774671.0\n",
       "1    Tuesday  3124166.0\n",
       "2  Wednesday  3362848.0\n",
       "3   Thursday  3542624.0\n",
       "4     Friday  3610376.0\n",
       "5   Saturday  2915637.0\n",
       "6     Sunday  2406844.0"
      ]
     },
     "execution_count": 9,
     "metadata": {},
     "output_type": "execute_result"
    }
   ],
   "source": [
    "weekdays =['Monday', 'Tuesday', 'Wednesday', 'Thursday', 'Friday', 'Saturday', 'Sunday']\n",
    "trips_week=np.zeros(7)\n",
    "for i in range(7):\n",
    "    trips_week[i] = len(df[df[\"weekday\"]==i])\n",
    "    \n",
    "weekdaysize = pd.DataFrame({'Weekday': weekdays, 'Trips': trips_week})\n",
    "weekdaysize"
   ]
  },
  {
   "cell_type": "code",
   "execution_count": 10,
   "id": "b1f56ad7",
   "metadata": {},
   "outputs": [
    {
     "data": {
      "image/png": "[encoded data removed]",
      "text/plain": [
       "<Figure size 800x400 with 1 Axes>"
      ]
     },
     "metadata": {},
     "output_type": "display_data"
    }
   ],
   "source": [
    "# weekly demand\n",
    "plt.figure(figsize=(8,4))\n",
    "plt.plot(weekdaysize[\"Weekday\"], weekdaysize[\"Trips\"],'o-', color='blue')\n",
    "plt.ylabel(\"Number of Trips\")\n",
    "plt.title(\"Number of Trips on Different Days\")\n",
    "#plt.savefig(\"weekly demand.png\")\n",
    "plt.show()"
   ]
  },
  {
   "cell_type": "markdown",
   "id": "6889c4ee",
   "metadata": {},
   "source": [
    "### Usage during a Year"
   ]
  },
  {
   "cell_type": "code",
   "execution_count": 11,
   "id": "ad0bab3f",
   "metadata": {},
   "outputs": [],
   "source": [
    "months=[\"January\",\"February\",\"March\",\"April\",\"May\",\"June\",\"July\",\"August\",\"September\",\"Oktober\",\"November\",\"December\"]"
   ]
  },
  {
   "cell_type": "code",
   "execution_count": 12,
   "id": "6bc01934",
   "metadata": {},
   "outputs": [
    {
     "data": {
      "text/html": [
       "<div>\n",
       "<style scoped>\n",
       "    .dataframe tbody tr th:only-of-type {\n",
       "        vertical-align: middle;\n",
       "    }\n",
       "\n",
       "    .dataframe tbody tr th {\n",
       "        vertical-align: top;\n",
       "    }\n",
       "\n",
       "    .dataframe thead th {\n",
       "        text-align: right;\n",
       "    }\n",
       "</style>\n",
       "<table border=\"1\" class=\"dataframe\">\n",
       "  <thead>\n",
       "    <tr style=\"text-align: right;\">\n",
       "      <th></th>\n",
       "      <th>Months</th>\n",
       "      <th>Trips</th>\n",
       "    </tr>\n",
       "  </thead>\n",
       "  <tbody>\n",
       "    <tr>\n",
       "      <th>0</th>\n",
       "      <td>January</td>\n",
       "      <td>1693112.0</td>\n",
       "    </tr>\n",
       "    <tr>\n",
       "      <th>1</th>\n",
       "      <td>February</td>\n",
       "      <td>1647777.0</td>\n",
       "    </tr>\n",
       "    <tr>\n",
       "      <th>2</th>\n",
       "      <td>March</td>\n",
       "      <td>2054348.0</td>\n",
       "    </tr>\n",
       "    <tr>\n",
       "      <th>3</th>\n",
       "      <td>April</td>\n",
       "      <td>1912549.0</td>\n",
       "    </tr>\n",
       "    <tr>\n",
       "      <th>4</th>\n",
       "      <td>May</td>\n",
       "      <td>2015806.0</td>\n",
       "    </tr>\n",
       "    <tr>\n",
       "      <th>5</th>\n",
       "      <td>June</td>\n",
       "      <td>2027055.0</td>\n",
       "    </tr>\n",
       "    <tr>\n",
       "      <th>6</th>\n",
       "      <td>July</td>\n",
       "      <td>1792559.0</td>\n",
       "    </tr>\n",
       "    <tr>\n",
       "      <th>7</th>\n",
       "      <td>August</td>\n",
       "      <td>1816699.0</td>\n",
       "    </tr>\n",
       "    <tr>\n",
       "      <th>8</th>\n",
       "      <td>September</td>\n",
       "      <td>1698700.0</td>\n",
       "    </tr>\n",
       "    <tr>\n",
       "      <th>9</th>\n",
       "      <td>Oktober</td>\n",
       "      <td>1870099.0</td>\n",
       "    </tr>\n",
       "    <tr>\n",
       "      <th>10</th>\n",
       "      <td>November</td>\n",
       "      <td>1660714.0</td>\n",
       "    </tr>\n",
       "    <tr>\n",
       "      <th>11</th>\n",
       "      <td>December</td>\n",
       "      <td>1547748.0</td>\n",
       "    </tr>\n",
       "  </tbody>\n",
       "</table>\n",
       "</div>"
      ],
      "text/plain": [
       "       Months      Trips\n",
       "0     January  1693112.0\n",
       "1    February  1647777.0\n",
       "2       March  2054348.0\n",
       "3       April  1912549.0\n",
       "4         May  2015806.0\n",
       "5        June  2027055.0\n",
       "6        July  1792559.0\n",
       "7      August  1816699.0\n",
       "8   September  1698700.0\n",
       "9     Oktober  1870099.0\n",
       "10   November  1660714.0\n",
       "11   December  1547748.0"
      ]
     },
     "execution_count": 12,
     "metadata": {},
     "output_type": "execute_result"
    }
   ],
   "source": [
    "trips_month = np.zeros(12)\n",
    "for i in range(12):\n",
    "    trips_month[i]= len(df[df[\"month\"]==i+1])\n",
    "\n",
    "year= pd.DataFrame({'Months':months, 'Trips':trips_month})\n",
    "year"
   ]
  },
  {
   "cell_type": "code",
   "execution_count": 13,
   "id": "b81822a8",
   "metadata": {},
   "outputs": [
    {
     "data": {
      "image/png": "[encoded data removed]",
      "text/plain": [
       "<Figure size 1200x400 with 1 Axes>"
      ]
     },
     "metadata": {},
     "output_type": "display_data"
    }
   ],
   "source": [
    "# yearly demand\n",
    "plt.figure(figsize=(12,4))\n",
    "plt.plot(year[\"Months\"], year[\"Trips\"],'o-', color='blue')\n",
    "plt.ylabel(\"Number of Trips\")\n",
    "plt.title(\"Number of Trips in Different Months\")\n",
    "#plt.savefig(\"yearly demand.png\")\n",
    "plt.show()"
   ]
  },
  {
   "cell_type": "markdown",
   "id": "06ac18a3",
   "metadata": {},
   "source": [
    "## Spatial Analysis"
   ]
  },
  {
   "cell_type": "markdown",
   "id": "218f6f9f",
   "metadata": {},
   "source": [
    "### Load Data and Data Overview"
   ]
  },
  {
   "cell_type": "markdown",
   "id": "e7c2bfcd",
   "metadata": {},
   "source": [
    "#### Taxi Trip Dataset"
   ]
  },
  {
   "cell_type": "code",
   "execution_count": 14,
   "id": "d96a0b25",
   "metadata": {},
   "outputs": [
    {
     "name": "stdout",
     "output_type": "stream",
     "text": [
      "<class 'geopandas.geodataframe.GeoDataFrame'>\n",
      "RangeIndex: 21737166 entries, 0 to 21737165\n",
      "Data columns (total 31 columns):\n",
      " #   Column                     Dtype         \n",
      "---  ------                     -----         \n",
      " 0   start_time                 datetime64[ns]\n",
      " 1   end_time                   datetime64[ns]\n",
      " 2   trip_seconds               float64       \n",
      " 3   trip_miles                 float64       \n",
      " 4   start_census               float64       \n",
      " 5   end_census                 float64       \n",
      " 6   start_community            int64         \n",
      " 7   end_community              int64         \n",
      " 8   fare                       float64       \n",
      " 9   tips                       float64       \n",
      " 10  tolls                      float64       \n",
      " 11  extras                     float64       \n",
      " 12  trip_total                 float64       \n",
      " 13  payment_type               object        \n",
      " 14  company                    object        \n",
      " 15  start_latitude             float64       \n",
      " 16  start_longitude            float64       \n",
      " 17  Pickup Centroid Location   object        \n",
      " 18  end_latitude               float64       \n",
      " 19  end_longitude              float64       \n",
      " 20  Dropoff Centroid Location  object        \n",
      " 21  new_TaxiID                 int64         \n",
      " 22  dur_min                    float64       \n",
      " 23  date                       object        \n",
      " 24  weekday                    int64         \n",
      " 25  avg_temp                   float64       \n",
      " 26  precip                     float64       \n",
      " 27  hour                       int64         \n",
      " 28  day                        int64         \n",
      " 29  month                      int64         \n",
      " 30  geometry                   geometry      \n",
      "dtypes: datetime64[ns](2), float64(16), geometry(1), int64(7), object(5)\n",
      "memory usage: 5.0+ GB\n"
     ]
    }
   ],
   "source": [
    "# Convert taxi_trips DataFrame to a GeoDataFrame\n",
    "taxi_trips = gpd.GeoDataFrame(\n",
    "    df,\n",
    "    geometry=gpd.points_from_xy(df.start_longitude, df.start_latitude)\n",
    ")\n",
    "taxi_trips.info()"
   ]
  },
  {
   "cell_type": "markdown",
   "id": "2c3ead40",
   "metadata": {},
   "source": [
    "#### Census Dataset"
   ]
  },
  {
   "cell_type": "code",
   "execution_count": 15,
   "id": "5bda103d",
   "metadata": {},
   "outputs": [
    {
     "data": {
      "text/html": [
       "<div>\n",
       "<style scoped>\n",
       "    .dataframe tbody tr th:only-of-type {\n",
       "        vertical-align: middle;\n",
       "    }\n",
       "\n",
       "    .dataframe tbody tr th {\n",
       "        vertical-align: top;\n",
       "    }\n",
       "\n",
       "    .dataframe thead th {\n",
       "        text-align: right;\n",
       "    }\n",
       "</style>\n",
       "<table border=\"1\" class=\"dataframe\">\n",
       "  <thead>\n",
       "    <tr style=\"text-align: right;\">\n",
       "      <th></th>\n",
       "      <th>statefp10</th>\n",
       "      <th>name10</th>\n",
       "      <th>commarea_n</th>\n",
       "      <th>namelsad10</th>\n",
       "      <th>commarea</th>\n",
       "      <th>geoid10</th>\n",
       "      <th>notes</th>\n",
       "      <th>tractce10</th>\n",
       "      <th>countyfp10</th>\n",
       "      <th>geometry</th>\n",
       "    </tr>\n",
       "  </thead>\n",
       "  <tbody>\n",
       "    <tr>\n",
       "      <th>0</th>\n",
       "      <td>17</td>\n",
       "      <td>8424</td>\n",
       "      <td>44</td>\n",
       "      <td>Census Tract 8424</td>\n",
       "      <td>44</td>\n",
       "      <td>17031842400</td>\n",
       "      <td></td>\n",
       "      <td>842400</td>\n",
       "      <td>031</td>\n",
       "      <td>MULTIPOLYGON (((-87.62405 41.73022, -87.62405 ...</td>\n",
       "    </tr>\n",
       "    <tr>\n",
       "      <th>1</th>\n",
       "      <td>17</td>\n",
       "      <td>8403</td>\n",
       "      <td>59</td>\n",
       "      <td>Census Tract 8403</td>\n",
       "      <td>59</td>\n",
       "      <td>17031840300</td>\n",
       "      <td></td>\n",
       "      <td>840300</td>\n",
       "      <td>031</td>\n",
       "      <td>MULTIPOLYGON (((-87.68608 41.82296, -87.68607 ...</td>\n",
       "    </tr>\n",
       "  </tbody>\n",
       "</table>\n",
       "</div>"
      ],
      "text/plain": [
       "  statefp10 name10 commarea_n         namelsad10 commarea      geoid10 notes  \\\n",
       "0        17   8424         44  Census Tract 8424       44  17031842400         \n",
       "1        17   8403         59  Census Tract 8403       59  17031840300         \n",
       "\n",
       "  tractce10 countyfp10                                           geometry  \n",
       "0    842400        031  MULTIPOLYGON (((-87.62405 41.73022, -87.62405 ...  \n",
       "1    840300        031  MULTIPOLYGON (((-87.68608 41.82296, -87.68607 ...  "
      ]
     },
     "execution_count": 15,
     "metadata": {},
     "output_type": "execute_result"
    }
   ],
   "source": [
    "# census data from \"extra files\" for census bounderies\n",
    "census=gpd.read_file('extra_dataframes/Census Tracts - 2010.geojson')\n",
    "census.head(2)"
   ]
  },
  {
   "cell_type": "code",
   "execution_count": 16,
   "id": "e2875ecb",
   "metadata": {
    "scrolled": true
   },
   "outputs": [
    {
     "data": {
      "text/plain": [
       "<Axes: >"
      ]
     },
     "execution_count": 16,
     "metadata": {},
     "output_type": "execute_result"
    },
    {
     "data": {
      "image/png": "[encoded data removed]",
      "text/plain": [
       "<Figure size 640x480 with 1 Axes>"
      ]
     },
     "metadata": {},
     "output_type": "display_data"
    }
   ],
   "source": [
    "# Plot Census Tracts of Chicago\n",
    "census.plot()"
   ]
  },
  {
   "cell_type": "code",
   "execution_count": 17,
   "id": "0cdf69ed",
   "metadata": {},
   "outputs": [
    {
     "name": "stdout",
     "output_type": "stream",
     "text": [
      "<class 'geopandas.geodataframe.GeoDataFrame'>\n",
      "RangeIndex: 801 entries, 0 to 800\n",
      "Data columns (total 10 columns):\n",
      " #   Column      Non-Null Count  Dtype   \n",
      "---  ------      --------------  -----   \n",
      " 0   statefp10   801 non-null    object  \n",
      " 1   name10      801 non-null    object  \n",
      " 2   commarea_n  801 non-null    object  \n",
      " 3   namelsad10  801 non-null    object  \n",
      " 4   commarea    801 non-null    object  \n",
      " 5   geoid10     801 non-null    object  \n",
      " 6   notes       801 non-null    object  \n",
      " 7   tractce10   801 non-null    object  \n",
      " 8   countyfp10  801 non-null    object  \n",
      " 9   geometry    801 non-null    geometry\n",
      "dtypes: geometry(1), object(9)\n",
      "memory usage: 62.7+ KB\n"
     ]
    }
   ],
   "source": [
    "census.info()"
   ]
  },
  {
   "cell_type": "markdown",
   "id": "ef92ac3d",
   "metadata": {},
   "source": [
    "#### New Dataframe for Census Analysis"
   ]
  },
  {
   "cell_type": "code",
   "execution_count": 18,
   "id": "d9d9b231",
   "metadata": {},
   "outputs": [
    {
     "name": "stdout",
     "output_type": "stream",
     "text": [
      "<class 'geopandas.geodataframe.GeoDataFrame'>\n",
      "RangeIndex: 801 entries, 0 to 800\n",
      "Data columns (total 2 columns):\n",
      " #   Column        Non-Null Count  Dtype   \n",
      "---  ------        --------------  -----   \n",
      " 0   start_census  801 non-null    int64   \n",
      " 1   geometry      801 non-null    geometry\n",
      "dtypes: geometry(1), int64(1)\n",
      "memory usage: 12.6 KB\n"
     ]
    }
   ],
   "source": [
    "census_analysis = census[['geoid10','geometry']]\n",
    "census_analysis = census_analysis.rename(columns={'geoid10':'start_census'})\n",
    "census_analysis['start_census'] = census_analysis['start_census'].astype('int64')\n",
    "census_analysis.info()"
   ]
  },
  {
   "cell_type": "markdown",
   "id": "2681d823",
   "metadata": {},
   "source": [
    "#### New Dataframe for Hexagon Analysis"
   ]
  },
  {
   "cell_type": "code",
   "execution_count": 19,
   "id": "5a366672",
   "metadata": {},
   "outputs": [
    {
     "name": "stdout",
     "output_type": "stream",
     "text": [
      "<class 'pandas.core.frame.DataFrame'>\n",
      "RangeIndex: 21737166 entries, 0 to 21737165\n",
      "Data columns (total 9 columns):\n",
      " #   Column           Dtype  \n",
      "---  ------           -----  \n",
      " 0   start_latitude   float64\n",
      " 1   start_longitude  float64\n",
      " 2   end_latitude     float64\n",
      " 3   end_longitude    float64\n",
      " 4   trip_miles       float64\n",
      " 5   trip_seconds     float64\n",
      " 6   fare             float64\n",
      " 7   hour             int64  \n",
      " 8   weekday          int64  \n",
      "dtypes: float64(7), int64(2)\n",
      "memory usage: 1.5 GB\n"
     ]
    }
   ],
   "source": [
    "# Dataframe with only relevant spatial data for H3\n",
    "h3_taxi_trips = taxi_trips[[\"start_latitude\",\"start_longitude\",\"end_latitude\",\"end_longitude\",\"trip_miles\",\"trip_seconds\",\"fare\",\"hour\",\"weekday\"]]\n",
    "h3_taxi_trips.info()"
   ]
  },
  {
   "cell_type": "code",
   "execution_count": 20,
   "id": "1ba50755",
   "metadata": {},
   "outputs": [
    {
     "name": "stderr",
     "output_type": "stream",
     "text": [
      "C:\\Users\\Lara\\AppData\\Local\\Temp\\ipykernel_14048\\2493670053.py:4: SettingWithCopyWarning: \n",
      "A value is trying to be set on a copy of a slice from a DataFrame.\n",
      "Try using .loc[row_indexer,col_indexer] = value instead\n",
      "\n",
      "See the caveats in the documentation: https://pandas.pydata.org/pandas-docs/stable/user_guide/indexing.html#returning-a-view-versus-a-copy\n",
      "  h3_taxi_trips[\"h3_hex_id_start\"] = h3_taxi_trips.apply(lambda row: h3.geo_to_h3(row[\"start_latitude\"], row[\"start_longitude\"], H3_HEXAGON_RESOLUTION) if (row['start_latitude'] and row['start_longitude']) else 0, axis=1)\n"
     ]
    }
   ],
   "source": [
    "# Set Hexagon Resolution\n",
    "H3_HEXAGON_RESOLUTION = 7\n",
    "\n",
    "h3_taxi_trips[\"h3_hex_id_start\"] = h3_taxi_trips.apply(lambda row: h3.geo_to_h3(row[\"start_latitude\"], row[\"start_longitude\"], H3_HEXAGON_RESOLUTION) if (row['start_latitude'] and row['start_longitude']) else 0, axis=1)"
   ]
  },
  {
   "cell_type": "code",
   "execution_count": 21,
   "id": "98948764",
   "metadata": {},
   "outputs": [
    {
     "ename": "MemoryError",
     "evalue": "Unable to allocate 166. MiB for an array with shape (21737166,) and data type object",
     "output_type": "error",
     "traceback": [
      "\u001b[1;31m---------------------------------------------------------------------------\u001b[0m",
      "\u001b[1;31mMemoryError\u001b[0m                               Traceback (most recent call last)",
      "Cell \u001b[1;32mIn[21], line 1\u001b[0m\n\u001b[1;32m----> 1\u001b[0m h3_taxi_trips[\u001b[38;5;124m\"\u001b[39m\u001b[38;5;124mh3_hex_id_end\u001b[39m\u001b[38;5;124m\"\u001b[39m] \u001b[38;5;241m=\u001b[39m \u001b[43mh3_taxi_trips\u001b[49m\u001b[38;5;241;43m.\u001b[39;49m\u001b[43mapply\u001b[49m\u001b[43m(\u001b[49m\u001b[38;5;28;43;01mlambda\u001b[39;49;00m\u001b[43m \u001b[49m\u001b[43mrow\u001b[49m\u001b[43m:\u001b[49m\u001b[43m \u001b[49m\u001b[43mh3\u001b[49m\u001b[38;5;241;43m.\u001b[39;49m\u001b[43mgeo_to_h3\u001b[49m\u001b[43m(\u001b[49m\u001b[43mrow\u001b[49m\u001b[43m[\u001b[49m\u001b[38;5;124;43m\"\u001b[39;49m\u001b[38;5;124;43mend_latitude\u001b[39;49m\u001b[38;5;124;43m\"\u001b[39;49m\u001b[43m]\u001b[49m\u001b[43m,\u001b[49m\u001b[43m \u001b[49m\u001b[43mrow\u001b[49m\u001b[43m[\u001b[49m\u001b[38;5;124;43m\"\u001b[39;49m\u001b[38;5;124;43mend_longitude\u001b[39;49m\u001b[38;5;124;43m\"\u001b[39;49m\u001b[43m]\u001b[49m\u001b[43m,\u001b[49m\u001b[43m \u001b[49m\u001b[43mH3_HEXAGON_RESOLUTION\u001b[49m\u001b[43m)\u001b[49m\u001b[43m \u001b[49m\u001b[38;5;28;43;01mif\u001b[39;49;00m\u001b[43m \u001b[49m\u001b[43m(\u001b[49m\u001b[43mrow\u001b[49m\u001b[43m[\u001b[49m\u001b[38;5;124;43m'\u001b[39;49m\u001b[38;5;124;43mend_latitude\u001b[39;49m\u001b[38;5;124;43m'\u001b[39;49m\u001b[43m]\u001b[49m\u001b[43m \u001b[49m\u001b[38;5;129;43;01mand\u001b[39;49;00m\u001b[43m \u001b[49m\u001b[43mrow\u001b[49m\u001b[43m[\u001b[49m\u001b[38;5;124;43m'\u001b[39;49m\u001b[38;5;124;43mend_longitude\u001b[39;49m\u001b[38;5;124;43m'\u001b[39;49m\u001b[43m]\u001b[49m\u001b[43m)\u001b[49m\u001b[43m \u001b[49m\u001b[38;5;28;43;01melse\u001b[39;49;00m\u001b[43m \u001b[49m\u001b[38;5;241;43m0\u001b[39;49m\u001b[43m,\u001b[49m\u001b[43m \u001b[49m\u001b[43maxis\u001b[49m\u001b[38;5;241;43m=\u001b[39;49m\u001b[38;5;241;43m1\u001b[39;49m\u001b[43m)\u001b[49m\n",
      "File \u001b[1;32m~\\Anaconda\\lib\\site-packages\\pandas\\core\\frame.py:9568\u001b[0m, in \u001b[0;36mDataFrame.apply\u001b[1;34m(self, func, axis, raw, result_type, args, **kwargs)\u001b[0m\n\u001b[0;32m   9557\u001b[0m \u001b[38;5;28;01mfrom\u001b[39;00m \u001b[38;5;21;01mpandas\u001b[39;00m\u001b[38;5;21;01m.\u001b[39;00m\u001b[38;5;21;01mcore\u001b[39;00m\u001b[38;5;21;01m.\u001b[39;00m\u001b[38;5;21;01mapply\u001b[39;00m \u001b[38;5;28;01mimport\u001b[39;00m frame_apply\n\u001b[0;32m   9559\u001b[0m op \u001b[38;5;241m=\u001b[39m frame_apply(\n\u001b[0;32m   9560\u001b[0m     \u001b[38;5;28mself\u001b[39m,\n\u001b[0;32m   9561\u001b[0m     func\u001b[38;5;241m=\u001b[39mfunc,\n\u001b[1;32m   (...)\u001b[0m\n\u001b[0;32m   9566\u001b[0m     kwargs\u001b[38;5;241m=\u001b[39mkwargs,\n\u001b[0;32m   9567\u001b[0m )\n\u001b[1;32m-> 9568\u001b[0m \u001b[38;5;28;01mreturn\u001b[39;00m \u001b[43mop\u001b[49m\u001b[38;5;241;43m.\u001b[39;49m\u001b[43mapply\u001b[49m\u001b[43m(\u001b[49m\u001b[43m)\u001b[49m\u001b[38;5;241m.\u001b[39m__finalize__(\u001b[38;5;28mself\u001b[39m, method\u001b[38;5;241m=\u001b[39m\u001b[38;5;124m\"\u001b[39m\u001b[38;5;124mapply\u001b[39m\u001b[38;5;124m\"\u001b[39m)\n",
      "File \u001b[1;32m~\\Anaconda\\lib\\site-packages\\pandas\\core\\apply.py:764\u001b[0m, in \u001b[0;36mFrameApply.apply\u001b[1;34m(self)\u001b[0m\n\u001b[0;32m    761\u001b[0m \u001b[38;5;28;01melif\u001b[39;00m \u001b[38;5;28mself\u001b[39m\u001b[38;5;241m.\u001b[39mraw:\n\u001b[0;32m    762\u001b[0m     \u001b[38;5;28;01mreturn\u001b[39;00m \u001b[38;5;28mself\u001b[39m\u001b[38;5;241m.\u001b[39mapply_raw()\n\u001b[1;32m--> 764\u001b[0m \u001b[38;5;28;01mreturn\u001b[39;00m \u001b[38;5;28;43mself\u001b[39;49m\u001b[38;5;241;43m.\u001b[39;49m\u001b[43mapply_standard\u001b[49m\u001b[43m(\u001b[49m\u001b[43m)\u001b[49m\n",
      "File \u001b[1;32m~\\Anaconda\\lib\\site-packages\\pandas\\core\\apply.py:894\u001b[0m, in \u001b[0;36mFrameApply.apply_standard\u001b[1;34m(self)\u001b[0m\n\u001b[0;32m    891\u001b[0m results, res_index \u001b[38;5;241m=\u001b[39m \u001b[38;5;28mself\u001b[39m\u001b[38;5;241m.\u001b[39mapply_series_generator()\n\u001b[0;32m    893\u001b[0m \u001b[38;5;66;03m# wrap results\u001b[39;00m\n\u001b[1;32m--> 894\u001b[0m \u001b[38;5;28;01mreturn\u001b[39;00m \u001b[38;5;28;43mself\u001b[39;49m\u001b[38;5;241;43m.\u001b[39;49m\u001b[43mwrap_results\u001b[49m\u001b[43m(\u001b[49m\u001b[43mresults\u001b[49m\u001b[43m,\u001b[49m\u001b[43m \u001b[49m\u001b[43mres_index\u001b[49m\u001b[43m)\u001b[49m\n",
      "File \u001b[1;32m~\\Anaconda\\lib\\site-packages\\pandas\\core\\apply.py:929\u001b[0m, in \u001b[0;36mFrameApply.wrap_results\u001b[1;34m(self, results, res_index)\u001b[0m\n\u001b[0;32m    927\u001b[0m constructor_sliced \u001b[38;5;241m=\u001b[39m \u001b[38;5;28mself\u001b[39m\u001b[38;5;241m.\u001b[39mobj\u001b[38;5;241m.\u001b[39m_constructor_sliced\n\u001b[0;32m    928\u001b[0m \u001b[38;5;28;01mif\u001b[39;00m constructor_sliced \u001b[38;5;129;01mis\u001b[39;00m Series:\n\u001b[1;32m--> 929\u001b[0m     result \u001b[38;5;241m=\u001b[39m \u001b[43mcreate_series_with_explicit_dtype\u001b[49m\u001b[43m(\u001b[49m\n\u001b[0;32m    930\u001b[0m \u001b[43m        \u001b[49m\u001b[43mresults\u001b[49m\u001b[43m,\u001b[49m\u001b[43m \u001b[49m\u001b[43mdtype_if_empty\u001b[49m\u001b[38;5;241;43m=\u001b[39;49m\u001b[43mnp\u001b[49m\u001b[38;5;241;43m.\u001b[39;49m\u001b[43mfloat64\u001b[49m\n\u001b[0;32m    931\u001b[0m \u001b[43m    \u001b[49m\u001b[43m)\u001b[49m\n\u001b[0;32m    932\u001b[0m \u001b[38;5;28;01melse\u001b[39;00m:\n\u001b[0;32m    933\u001b[0m     result \u001b[38;5;241m=\u001b[39m constructor_sliced(results)\n",
      "File \u001b[1;32m~\\Anaconda\\lib\\site-packages\\pandas\\core\\construction.py:915\u001b[0m, in \u001b[0;36mcreate_series_with_explicit_dtype\u001b[1;34m(data, index, dtype, name, copy, fastpath, dtype_if_empty)\u001b[0m\n\u001b[0;32m    913\u001b[0m \u001b[38;5;28;01mif\u001b[39;00m is_empty_data(data) \u001b[38;5;129;01mand\u001b[39;00m dtype \u001b[38;5;129;01mis\u001b[39;00m \u001b[38;5;28;01mNone\u001b[39;00m:\n\u001b[0;32m    914\u001b[0m     dtype \u001b[38;5;241m=\u001b[39m dtype_if_empty\n\u001b[1;32m--> 915\u001b[0m \u001b[38;5;28;01mreturn\u001b[39;00m \u001b[43mSeries\u001b[49m\u001b[43m(\u001b[49m\n\u001b[0;32m    916\u001b[0m \u001b[43m    \u001b[49m\u001b[43mdata\u001b[49m\u001b[38;5;241;43m=\u001b[39;49m\u001b[43mdata\u001b[49m\u001b[43m,\u001b[49m\u001b[43m \u001b[49m\u001b[43mindex\u001b[49m\u001b[38;5;241;43m=\u001b[39;49m\u001b[43mindex\u001b[49m\u001b[43m,\u001b[49m\u001b[43m \u001b[49m\u001b[43mdtype\u001b[49m\u001b[38;5;241;43m=\u001b[39;49m\u001b[43mdtype\u001b[49m\u001b[43m,\u001b[49m\u001b[43m \u001b[49m\u001b[43mname\u001b[49m\u001b[38;5;241;43m=\u001b[39;49m\u001b[43mname\u001b[49m\u001b[43m,\u001b[49m\u001b[43m \u001b[49m\u001b[43mcopy\u001b[49m\u001b[38;5;241;43m=\u001b[39;49m\u001b[43mcopy\u001b[49m\u001b[43m,\u001b[49m\u001b[43m \u001b[49m\u001b[43mfastpath\u001b[49m\u001b[38;5;241;43m=\u001b[39;49m\u001b[43mfastpath\u001b[49m\n\u001b[0;32m    917\u001b[0m \u001b[43m\u001b[49m\u001b[43m)\u001b[49m\n",
      "File \u001b[1;32m~\\Anaconda\\lib\\site-packages\\pandas\\core\\series.py:436\u001b[0m, in \u001b[0;36mSeries.__init__\u001b[1;34m(self, data, index, dtype, name, copy, fastpath)\u001b[0m\n\u001b[0;32m    434\u001b[0m     data \u001b[38;5;241m=\u001b[39m data\u001b[38;5;241m.\u001b[39m_mgr\n\u001b[0;32m    435\u001b[0m \u001b[38;5;28;01melif\u001b[39;00m is_dict_like(data):\n\u001b[1;32m--> 436\u001b[0m     data, index \u001b[38;5;241m=\u001b[39m \u001b[38;5;28;43mself\u001b[39;49m\u001b[38;5;241;43m.\u001b[39;49m\u001b[43m_init_dict\u001b[49m\u001b[43m(\u001b[49m\u001b[43mdata\u001b[49m\u001b[43m,\u001b[49m\u001b[43m \u001b[49m\u001b[43mindex\u001b[49m\u001b[43m,\u001b[49m\u001b[43m \u001b[49m\u001b[43mdtype\u001b[49m\u001b[43m)\u001b[49m\n\u001b[0;32m    437\u001b[0m     dtype \u001b[38;5;241m=\u001b[39m \u001b[38;5;28;01mNone\u001b[39;00m\n\u001b[0;32m    438\u001b[0m     copy \u001b[38;5;241m=\u001b[39m \u001b[38;5;28;01mFalse\u001b[39;00m\n",
      "File \u001b[1;32m~\\Anaconda\\lib\\site-packages\\pandas\\core\\series.py:529\u001b[0m, in \u001b[0;36mSeries._init_dict\u001b[1;34m(self, data, index, dtype)\u001b[0m\n\u001b[0;32m    524\u001b[0m     keys, values \u001b[38;5;241m=\u001b[39m (), []\n\u001b[0;32m    526\u001b[0m \u001b[38;5;66;03m# Input is now list-like, so rely on \"standard\" construction:\u001b[39;00m\n\u001b[0;32m    527\u001b[0m \n\u001b[0;32m    528\u001b[0m \u001b[38;5;66;03m# TODO: passing np.float64 to not break anything yet. See GH-17261\u001b[39;00m\n\u001b[1;32m--> 529\u001b[0m s \u001b[38;5;241m=\u001b[39m \u001b[43mcreate_series_with_explicit_dtype\u001b[49m\u001b[43m(\u001b[49m\n\u001b[0;32m    530\u001b[0m \u001b[43m    \u001b[49m\u001b[38;5;66;43;03m# error: Argument \"index\" to \"create_series_with_explicit_dtype\" has\u001b[39;49;00m\n\u001b[0;32m    531\u001b[0m \u001b[43m    \u001b[49m\u001b[38;5;66;43;03m# incompatible type \"Tuple[Any, ...]\"; expected \"Union[ExtensionArray,\u001b[39;49;00m\n\u001b[0;32m    532\u001b[0m \u001b[43m    \u001b[49m\u001b[38;5;66;43;03m# ndarray, Index, None]\"\u001b[39;49;00m\n\u001b[0;32m    533\u001b[0m \u001b[43m    \u001b[49m\u001b[43mvalues\u001b[49m\u001b[43m,\u001b[49m\n\u001b[0;32m    534\u001b[0m \u001b[43m    \u001b[49m\u001b[43mindex\u001b[49m\u001b[38;5;241;43m=\u001b[39;49m\u001b[43mkeys\u001b[49m\u001b[43m,\u001b[49m\u001b[43m  \u001b[49m\u001b[38;5;66;43;03m# type: ignore[arg-type]\u001b[39;49;00m\n\u001b[0;32m    535\u001b[0m \u001b[43m    \u001b[49m\u001b[43mdtype\u001b[49m\u001b[38;5;241;43m=\u001b[39;49m\u001b[43mdtype\u001b[49m\u001b[43m,\u001b[49m\n\u001b[0;32m    536\u001b[0m \u001b[43m    \u001b[49m\u001b[43mdtype_if_empty\u001b[49m\u001b[38;5;241;43m=\u001b[39;49m\u001b[43mnp\u001b[49m\u001b[38;5;241;43m.\u001b[39;49m\u001b[43mfloat64\u001b[49m\u001b[43m,\u001b[49m\n\u001b[0;32m    537\u001b[0m \u001b[43m\u001b[49m\u001b[43m)\u001b[49m\n\u001b[0;32m    539\u001b[0m \u001b[38;5;66;03m# Now we just make sure the order is respected, if any\u001b[39;00m\n\u001b[0;32m    540\u001b[0m \u001b[38;5;28;01mif\u001b[39;00m data \u001b[38;5;129;01mand\u001b[39;00m index \u001b[38;5;129;01mis\u001b[39;00m \u001b[38;5;129;01mnot\u001b[39;00m \u001b[38;5;28;01mNone\u001b[39;00m:\n",
      "File \u001b[1;32m~\\Anaconda\\lib\\site-packages\\pandas\\core\\construction.py:915\u001b[0m, in \u001b[0;36mcreate_series_with_explicit_dtype\u001b[1;34m(data, index, dtype, name, copy, fastpath, dtype_if_empty)\u001b[0m\n\u001b[0;32m    913\u001b[0m \u001b[38;5;28;01mif\u001b[39;00m is_empty_data(data) \u001b[38;5;129;01mand\u001b[39;00m dtype \u001b[38;5;129;01mis\u001b[39;00m \u001b[38;5;28;01mNone\u001b[39;00m:\n\u001b[0;32m    914\u001b[0m     dtype \u001b[38;5;241m=\u001b[39m dtype_if_empty\n\u001b[1;32m--> 915\u001b[0m \u001b[38;5;28;01mreturn\u001b[39;00m \u001b[43mSeries\u001b[49m\u001b[43m(\u001b[49m\n\u001b[0;32m    916\u001b[0m \u001b[43m    \u001b[49m\u001b[43mdata\u001b[49m\u001b[38;5;241;43m=\u001b[39;49m\u001b[43mdata\u001b[49m\u001b[43m,\u001b[49m\u001b[43m \u001b[49m\u001b[43mindex\u001b[49m\u001b[38;5;241;43m=\u001b[39;49m\u001b[43mindex\u001b[49m\u001b[43m,\u001b[49m\u001b[43m \u001b[49m\u001b[43mdtype\u001b[49m\u001b[38;5;241;43m=\u001b[39;49m\u001b[43mdtype\u001b[49m\u001b[43m,\u001b[49m\u001b[43m \u001b[49m\u001b[43mname\u001b[49m\u001b[38;5;241;43m=\u001b[39;49m\u001b[43mname\u001b[49m\u001b[43m,\u001b[49m\u001b[43m \u001b[49m\u001b[43mcopy\u001b[49m\u001b[38;5;241;43m=\u001b[39;49m\u001b[43mcopy\u001b[49m\u001b[43m,\u001b[49m\u001b[43m \u001b[49m\u001b[43mfastpath\u001b[49m\u001b[38;5;241;43m=\u001b[39;49m\u001b[43mfastpath\u001b[49m\n\u001b[0;32m    917\u001b[0m \u001b[43m\u001b[49m\u001b[43m)\u001b[49m\n",
      "File \u001b[1;32m~\\Anaconda\\lib\\site-packages\\pandas\\core\\series.py:399\u001b[0m, in \u001b[0;36mSeries.__init__\u001b[1;34m(self, data, index, dtype, name, copy, fastpath)\u001b[0m\n\u001b[0;32m    395\u001b[0m     \u001b[38;5;66;03m# uncomment the line below when removing the FutureWarning\u001b[39;00m\n\u001b[0;32m    396\u001b[0m     \u001b[38;5;66;03m# dtype = np.dtype(object)\u001b[39;00m\n\u001b[0;32m    398\u001b[0m \u001b[38;5;28;01mif\u001b[39;00m index \u001b[38;5;129;01mis\u001b[39;00m \u001b[38;5;129;01mnot\u001b[39;00m \u001b[38;5;28;01mNone\u001b[39;00m:\n\u001b[1;32m--> 399\u001b[0m     index \u001b[38;5;241m=\u001b[39m \u001b[43mensure_index\u001b[49m\u001b[43m(\u001b[49m\u001b[43mindex\u001b[49m\u001b[43m)\u001b[49m\n\u001b[0;32m    401\u001b[0m \u001b[38;5;28;01mif\u001b[39;00m data \u001b[38;5;129;01mis\u001b[39;00m \u001b[38;5;28;01mNone\u001b[39;00m:\n\u001b[0;32m    402\u001b[0m     data \u001b[38;5;241m=\u001b[39m {}\n",
      "File \u001b[1;32m~\\Anaconda\\lib\\site-packages\\pandas\\core\\indexes\\base.py:7333\u001b[0m, in \u001b[0;36mensure_index\u001b[1;34m(index_like, copy)\u001b[0m\n\u001b[0;32m   7331\u001b[0m         \u001b[38;5;28;01mreturn\u001b[39;00m Index\u001b[38;5;241m.\u001b[39m_with_infer(index_like, copy\u001b[38;5;241m=\u001b[39mcopy, tupleize_cols\u001b[38;5;241m=\u001b[39m\u001b[38;5;28;01mFalse\u001b[39;00m)\n\u001b[0;32m   7332\u001b[0m \u001b[38;5;28;01melse\u001b[39;00m:\n\u001b[1;32m-> 7333\u001b[0m     \u001b[38;5;28;01mreturn\u001b[39;00m \u001b[43mIndex\u001b[49m\u001b[38;5;241;43m.\u001b[39;49m\u001b[43m_with_infer\u001b[49m\u001b[43m(\u001b[49m\u001b[43mindex_like\u001b[49m\u001b[43m,\u001b[49m\u001b[43m \u001b[49m\u001b[43mcopy\u001b[49m\u001b[38;5;241;43m=\u001b[39;49m\u001b[43mcopy\u001b[49m\u001b[43m)\u001b[49m\n",
      "File \u001b[1;32m~\\Anaconda\\lib\\site-packages\\pandas\\core\\indexes\\base.py:716\u001b[0m, in \u001b[0;36mIndex._with_infer\u001b[1;34m(cls, *args, **kwargs)\u001b[0m\n\u001b[0;32m    714\u001b[0m \u001b[38;5;28;01mwith\u001b[39;00m warnings\u001b[38;5;241m.\u001b[39mcatch_warnings():\n\u001b[0;32m    715\u001b[0m     warnings\u001b[38;5;241m.\u001b[39mfilterwarnings(\u001b[38;5;124m\"\u001b[39m\u001b[38;5;124mignore\u001b[39m\u001b[38;5;124m\"\u001b[39m, \u001b[38;5;124m\"\u001b[39m\u001b[38;5;124m.*the Index constructor\u001b[39m\u001b[38;5;124m\"\u001b[39m, \u001b[38;5;167;01mFutureWarning\u001b[39;00m)\n\u001b[1;32m--> 716\u001b[0m     result \u001b[38;5;241m=\u001b[39m \u001b[38;5;28mcls\u001b[39m(\u001b[38;5;241m*\u001b[39margs, \u001b[38;5;241m*\u001b[39m\u001b[38;5;241m*\u001b[39mkwargs)\n\u001b[0;32m    718\u001b[0m \u001b[38;5;28;01mif\u001b[39;00m result\u001b[38;5;241m.\u001b[39mdtype \u001b[38;5;241m==\u001b[39m _dtype_obj \u001b[38;5;129;01mand\u001b[39;00m \u001b[38;5;129;01mnot\u001b[39;00m result\u001b[38;5;241m.\u001b[39m_is_multi:\n\u001b[0;32m    719\u001b[0m     \u001b[38;5;66;03m# error: Argument 1 to \"maybe_convert_objects\" has incompatible type\u001b[39;00m\n\u001b[0;32m    720\u001b[0m     \u001b[38;5;66;03m# \"Union[ExtensionArray, ndarray[Any, Any]]\"; expected\u001b[39;00m\n\u001b[0;32m    721\u001b[0m     \u001b[38;5;66;03m# \"ndarray[Any, Any]\"\u001b[39;00m\n\u001b[0;32m    722\u001b[0m     values \u001b[38;5;241m=\u001b[39m lib\u001b[38;5;241m.\u001b[39mmaybe_convert_objects(result\u001b[38;5;241m.\u001b[39m_values)  \u001b[38;5;66;03m# type: ignore[arg-type]\u001b[39;00m\n",
      "File \u001b[1;32m~\\Anaconda\\lib\\site-packages\\pandas\\core\\indexes\\base.py:565\u001b[0m, in \u001b[0;36mIndex.__new__\u001b[1;34m(cls, data, dtype, copy, name, tupleize_cols, **kwargs)\u001b[0m\n\u001b[0;32m    560\u001b[0m         \u001b[38;5;28;01mreturn\u001b[39;00m MultiIndex\u001b[38;5;241m.\u001b[39mfrom_tuples(\n\u001b[0;32m    561\u001b[0m             data, names\u001b[38;5;241m=\u001b[39mname \u001b[38;5;129;01mor\u001b[39;00m kwargs\u001b[38;5;241m.\u001b[39mget(\u001b[38;5;124m\"\u001b[39m\u001b[38;5;124mnames\u001b[39m\u001b[38;5;124m\"\u001b[39m)\n\u001b[0;32m    562\u001b[0m         )\n\u001b[0;32m    563\u001b[0m \u001b[38;5;66;03m# other iterable of some kind\u001b[39;00m\n\u001b[1;32m--> 565\u001b[0m subarr \u001b[38;5;241m=\u001b[39m \u001b[43mcom\u001b[49m\u001b[38;5;241;43m.\u001b[39;49m\u001b[43masarray_tuplesafe\u001b[49m\u001b[43m(\u001b[49m\u001b[43mdata\u001b[49m\u001b[43m,\u001b[49m\u001b[43m \u001b[49m\u001b[43mdtype\u001b[49m\u001b[38;5;241;43m=\u001b[39;49m\u001b[43m_dtype_obj\u001b[49m\u001b[43m)\u001b[49m\n\u001b[0;32m    566\u001b[0m \u001b[38;5;28;01mif\u001b[39;00m dtype \u001b[38;5;129;01mis\u001b[39;00m \u001b[38;5;28;01mNone\u001b[39;00m:\n\u001b[0;32m    567\u001b[0m     \u001b[38;5;66;03m# with e.g. a list [1, 2, 3] casting to numeric is _not_ deprecated\u001b[39;00m\n\u001b[0;32m    568\u001b[0m     subarr \u001b[38;5;241m=\u001b[39m _maybe_cast_data_without_dtype(\n\u001b[0;32m    569\u001b[0m         subarr, cast_numeric_deprecated\u001b[38;5;241m=\u001b[39m\u001b[38;5;28;01mFalse\u001b[39;00m\n\u001b[0;32m    570\u001b[0m     )\n",
      "File \u001b[1;32m~\\Anaconda\\lib\\site-packages\\pandas\\core\\common.py:249\u001b[0m, in \u001b[0;36masarray_tuplesafe\u001b[1;34m(values, dtype)\u001b[0m\n\u001b[0;32m    246\u001b[0m     \u001b[38;5;28;01mwith\u001b[39;00m warnings\u001b[38;5;241m.\u001b[39mcatch_warnings():\n\u001b[0;32m    247\u001b[0m         \u001b[38;5;66;03m# Can remove warning filter once NumPy 1.24 is min version\u001b[39;00m\n\u001b[0;32m    248\u001b[0m         warnings\u001b[38;5;241m.\u001b[39msimplefilter(\u001b[38;5;124m\"\u001b[39m\u001b[38;5;124mignore\u001b[39m\u001b[38;5;124m\"\u001b[39m, np\u001b[38;5;241m.\u001b[39mVisibleDeprecationWarning)\n\u001b[1;32m--> 249\u001b[0m         result \u001b[38;5;241m=\u001b[39m \u001b[43mnp\u001b[49m\u001b[38;5;241;43m.\u001b[39;49m\u001b[43masarray\u001b[49m\u001b[43m(\u001b[49m\u001b[43mvalues\u001b[49m\u001b[43m,\u001b[49m\u001b[43m \u001b[49m\u001b[43mdtype\u001b[49m\u001b[38;5;241;43m=\u001b[39;49m\u001b[43mdtype\u001b[49m\u001b[43m)\u001b[49m\n\u001b[0;32m    250\u001b[0m \u001b[38;5;28;01mexcept\u001b[39;00m \u001b[38;5;167;01mValueError\u001b[39;00m:\n\u001b[0;32m    251\u001b[0m     \u001b[38;5;66;03m# Using try/except since it's more performant than checking is_list_like\u001b[39;00m\n\u001b[0;32m    252\u001b[0m     \u001b[38;5;66;03m# over each element\u001b[39;00m\n\u001b[0;32m    253\u001b[0m     \u001b[38;5;66;03m# error: Argument 1 to \"construct_1d_object_array_from_listlike\"\u001b[39;00m\n\u001b[0;32m    254\u001b[0m     \u001b[38;5;66;03m# has incompatible type \"Iterable[Any]\"; expected \"Sized\"\u001b[39;00m\n\u001b[0;32m    255\u001b[0m     \u001b[38;5;28;01mreturn\u001b[39;00m construct_1d_object_array_from_listlike(values)  \u001b[38;5;66;03m# type: ignore[arg-type]\u001b[39;00m\n",
      "\u001b[1;31mMemoryError\u001b[0m: Unable to allocate 166. MiB for an array with shape (21737166,) and data type object"
     ]
    }
   ],
   "source": [
    "h3_taxi_trips[\"h3_hex_id_end\"] = h3_taxi_trips.apply(lambda row: h3.geo_to_h3(row[\"end_latitude\"], row[\"end_longitude\"], H3_HEXAGON_RESOLUTION) if (row['end_latitude'] and row['end_longitude']) else 0, axis=1)"
   ]
  },
  {
   "cell_type": "code",
   "execution_count": null,
   "id": "469470e7",
   "metadata": {},
   "outputs": [],
   "source": [
    "h3_taxi_trips.reset_index(inplace=True)\n",
    "h3_taxi_trips.head()"
   ]
  },
  {
   "cell_type": "markdown",
   "id": "ad9a1146",
   "metadata": {},
   "source": [
    "#### Surface of Chicago"
   ]
  },
  {
   "cell_type": "code",
   "execution_count": null,
   "id": "dccce1ac",
   "metadata": {},
   "outputs": [],
   "source": [
    "import json\n",
    "city_bounding_box = gpd.read_file('extra_dataframes/Boundaries - City.geojson')\n",
    "city_bounding_box_json_string = city_bounding_box.to_json()\n",
    "city_bounding_box_json = json.loads(city_bounding_box_json_string)\n",
    "city_bounding_box_poly = city_bounding_box_json[\"features\"][0]"
   ]
  },
  {
   "cell_type": "code",
   "execution_count": null,
   "id": "01d94003",
   "metadata": {},
   "outputs": [],
   "source": [
    "city_bounding_box"
   ]
  },
  {
   "cell_type": "code",
   "execution_count": null,
   "id": "b18882b9",
   "metadata": {},
   "outputs": [],
   "source": [
    "city_bounding_box.plot()"
   ]
  },
  {
   "cell_type": "code",
   "execution_count": null,
   "id": "6ae9a841",
   "metadata": {},
   "outputs": [],
   "source": [
    "# geht nicht weil multipolygon\n",
    "\n",
    "\n",
    "# Computing hexagons for chicago\n",
    "H3_HEXAGON_RESOLUTION = 6\n",
    "polygon_obj = city_bounding_box_poly[\"geometry\"]\n",
    "#hexagons = []\n",
    "#for index, row in polygon_obj['coordinates'].iterrows():\n",
    " # hexagons.extend(h3.polyfill(row['geometry'].__geo_interface__, h3resolution, geo_json_conformant=True))\n",
    "#hexagons = h3.polyfill(polygon_obj, res = H3_HEXAGON_RESOLUTION, geo_json_conformant = True)"
   ]
  },
  {
   "cell_type": "markdown",
   "id": "1f479afc",
   "metadata": {},
   "source": [
    "### Trip Length (in miles and seconds)"
   ]
  },
  {
   "cell_type": "markdown",
   "id": "b6001d55",
   "metadata": {},
   "source": [
    "#### Per Census Tract in Miles"
   ]
  },
  {
   "cell_type": "code",
   "execution_count": null,
   "id": "d1cf35fd",
   "metadata": {},
   "outputs": [],
   "source": [
    "# Take mean of trip distance for each census tract\n",
    "trip_distance = taxi_trips.groupby('start_census')['trip_miles'].mean()\n",
    "trip_distance = pd.DataFrame(trip_distance) \n",
    "\n",
    "# Make index to column\n",
    "trip_distance = trip_distance.reset_index()\n",
    "\n",
    "trip_distance.info()"
   ]
  },
  {
   "cell_type": "code",
   "execution_count": null,
   "id": "853ddf8c",
   "metadata": {},
   "outputs": [],
   "source": [
    "# Merge census data with dataframe containing the calculated mean distance for each census \n",
    "# (to get the surface for each tract even if there is no trip length data for it)\n",
    "merged =census_analysis.merge(trip_distance, how = 'left', on='start_census')\n",
    "\n",
    "census_analysis['trip_distance'] = merged['trip_miles']\n",
    "census_analysis.head(3)"
   ]
  },
  {
   "cell_type": "code",
   "execution_count": null,
   "id": "83ee1e13",
   "metadata": {},
   "outputs": [],
   "source": [
    "# Plot average trip length (in miles) for each start census tract\n",
    "fig, ax = plt.subplots(figsize=(10, 10))\n",
    "census_analysis.plot(column='trip_distance', cmap='viridis', linewidth=0.8, ax=ax, legend=True, legend_kwds={'label': \"Miles\"}, missing_kwds={'color': 'lightgrey'})\n",
    "ax.set_title('Average Trip Length (in Miles) by Census Tract')\n",
    "plt.show()"
   ]
  },
  {
   "cell_type": "markdown",
   "id": "481f303a",
   "metadata": {},
   "source": [
    "#### Per Census Tract in Seconds"
   ]
  },
  {
   "cell_type": "code",
   "execution_count": null,
   "id": "67ddbd80",
   "metadata": {},
   "outputs": [],
   "source": [
    "# Take mean of trip length for each census tract\n",
    "trip_duration = taxi_trips.groupby('start_census')['trip_seconds'].mean()\n",
    "trip_duration = pd.DataFrame(trip_duration) \n",
    "\n",
    "# Make index to column\n",
    "trip_duration = trip_duration.reset_index()\n",
    "\n",
    "trip_duration.info()"
   ]
  },
  {
   "cell_type": "code",
   "execution_count": null,
   "id": "10a2b2a6",
   "metadata": {},
   "outputs": [],
   "source": [
    "# Merge census data with dataframe containing the calculated mean duration for each census \n",
    "# (to get the surface for each tract even if there is no trip duration data for it)\n",
    "merged =census_analysis.merge(trip_duration, how = 'left', on='start_census')\n",
    "\n",
    "census_analysis['trip_duration'] = merged['trip_seconds']\n",
    "census_analysis.head(3)"
   ]
  },
  {
   "cell_type": "code",
   "execution_count": null,
   "id": "171cb263",
   "metadata": {},
   "outputs": [],
   "source": [
    "# Plot average trip length (in seconds) for each start census tract\n",
    "fig, ax = plt.subplots(figsize=(10, 10))\n",
    "census_analysis.plot(column='trip_duration', cmap='viridis', linewidth=0.8, ax=ax, legend=True, legend_kwds={'label': \"Seconds\"}, missing_kwds={'color': 'lightgrey'})\n",
    "ax.set_title('Average Trip Length (in Seconds) by Census Tract')\n",
    "plt.show()"
   ]
  },
  {
   "cell_type": "markdown",
   "id": "2058a211",
   "metadata": {},
   "source": [
    "#### Per Hexagon in Miles"
   ]
  },
  {
   "cell_type": "code",
   "execution_count": null,
   "id": "888fad62",
   "metadata": {},
   "outputs": [],
   "source": [
    "# Get mean trip distance per hexagon where trip started\n",
    "trips_start_dist = pd.DataFrame()\n",
    "trips_start_dist = h3_taxi_trips.groupby('h3_hex_id_start').mean()['trip_miles'].reset_index().rename(columns={'trip_miles': 'mean_trip_miles'})\n",
    "trips_start_dist['geometry'] = trips_start_dist.apply(lambda x: Polygon(h3.h3_to_geo_boundary(x[\"h3_hex_id_start\"], geo_json=True)), axis=1)\n",
    "\n",
    "trips_start_dist_geo = gpd.GeoDataFrame(trips_start_dist, geometry=trips_start_dist['geometry'], crs='EPSG:4326')"
   ]
  },
  {
   "cell_type": "code",
   "execution_count": null,
   "id": "90cf6e82",
   "metadata": {},
   "outputs": [],
   "source": [
    "trips_start_dist.info()"
   ]
  },
  {
   "cell_type": "code",
   "execution_count": null,
   "id": "b7089e6a",
   "metadata": {},
   "outputs": [],
   "source": [
    "fig, ax = plt.subplots(figsize=(7, 7))\n",
    "trips_start_dist_geo.plot(column='mean_trip_miles', cmap='viridis', linewidth=0.8, ax=ax, legend=True, legend_kwds={'label': \"Miles\"}, missing_kwds={'color': 'lightgrey'})\n",
    "ax.set_title('Average Trip Length (in Miles) by Hexagon')\n",
    "plt.show()"
   ]
  },
  {
   "cell_type": "markdown",
   "id": "788baeed",
   "metadata": {},
   "source": [
    "#### Per Hexagon in Seconds"
   ]
  },
  {
   "cell_type": "code",
   "execution_count": null,
   "id": "41e27b4d",
   "metadata": {},
   "outputs": [],
   "source": [
    "# Get mean trip duration per hexagon where trip started\n",
    "trips_start_dur = pd.DataFrame()\n",
    "trips_start_dur = h3_taxi_trips.groupby('h3_hex_id_start').mean()['trip_seconds'].reset_index().rename(columns={'trip_seconds': 'mean_trip_seconds'})\n",
    "trips_start_dur['geometry'] = trips_start_dur.apply(lambda x: Polygon(h3.h3_to_geo_boundary(x[\"h3_hex_id_start\"], geo_json=True)), axis=1)\n",
    "\n",
    "trips_start_dur_geo = gpd.GeoDataFrame(trips_start_dur, geometry=trips_start_dur['geometry'], crs='EPSG:4326')"
   ]
  },
  {
   "cell_type": "code",
   "execution_count": null,
   "id": "f2ea97a8",
   "metadata": {},
   "outputs": [],
   "source": [
    "trips_start_dur.info()"
   ]
  },
  {
   "cell_type": "code",
   "execution_count": null,
   "id": "3b8b19e1",
   "metadata": {},
   "outputs": [],
   "source": [
    "fig, ax = plt.subplots(figsize=(7, 7))\n",
    "trips_start_dur_geo.plot(column='mean_trip_seconds', cmap='viridis', linewidth=0.8, ax=ax, legend=True, legend_kwds={'label': \"Seconds\"}, missing_kwds={'color': 'lightgrey'})\n",
    "ax.set_title('Average Trip Length (in Seconds) by Hexagon')\n",
    "plt.show()"
   ]
  },
  {
   "cell_type": "markdown",
   "id": "40a855cb",
   "metadata": {},
   "source": [
    "### Price"
   ]
  },
  {
   "cell_type": "markdown",
   "id": "83768e7b",
   "metadata": {},
   "source": [
    "#### Per Census Tract"
   ]
  },
  {
   "cell_type": "code",
   "execution_count": null,
   "id": "81e4e16e",
   "metadata": {},
   "outputs": [],
   "source": [
    "# Take mean of fare for each census tract\n",
    "trip_price = taxi_trips.groupby('start_census')['fare'].mean()\n",
    "trip_price = pd.DataFrame(trip_price) \n",
    "\n",
    "# Make index to column\n",
    "trip_price = trip_price.reset_index()\n",
    "\n",
    "trip_price.info()"
   ]
  },
  {
   "cell_type": "code",
   "execution_count": null,
   "id": "6e2700e9",
   "metadata": {},
   "outputs": [],
   "source": [
    "# Merge census data with dataframe containing the calculated mean fare for each census \n",
    "# (to get the surface for each tract even if there is no trip data for it)\n",
    "merged =census_analysis.merge(trip_price, how = 'left', on='start_census')\n",
    "\n",
    "census_analysis['trip_price'] = merged['fare']\n",
    "census_analysis.head(3)"
   ]
  },
  {
   "cell_type": "code",
   "execution_count": null,
   "id": "505ad6ff",
   "metadata": {},
   "outputs": [],
   "source": [
    "# Plot average trip length (in seconds) for each start census tract\n",
    "fig, ax = plt.subplots(figsize=(10, 10))\n",
    "census_analysis.plot(column='trip_price', cmap='viridis', linewidth=0.8, ax=ax, legend=True, legend_kwds={'label': \"Dollar\"}, missing_kwds={'color': 'lightgrey'})\n",
    "ax.set_title('Average Trip Fare (in Dollar) by Census Tract')\n",
    "plt.show()"
   ]
  },
  {
   "cell_type": "markdown",
   "id": "c68f7ffe",
   "metadata": {},
   "source": [
    "#### Per Hexagon"
   ]
  },
  {
   "cell_type": "code",
   "execution_count": null,
   "id": "7ed785bc",
   "metadata": {},
   "outputs": [],
   "source": [
    "# Get mean fare of trip per hexagon where trip started\n",
    "trips_start_fare = pd.DataFrame()\n",
    "trips_start_fare = h3_taxi_trips.groupby('h3_hex_id_start').mean()['fare'].reset_index().rename(columns={'fare': 'mean_fare'})\n",
    "trips_start_fare['geometry'] = trips_start_fare.apply(lambda x: Polygon(h3.h3_to_geo_boundary(x[\"h3_hex_id_start\"], geo_json=True)), axis=1)\n",
    "\n",
    "trips_start_fare_geo = gpd.GeoDataFrame(trips_start_fare, geometry=trips_start_fare['geometry'], crs='EPSG:4326')"
   ]
  },
  {
   "cell_type": "code",
   "execution_count": null,
   "id": "3192e9de",
   "metadata": {},
   "outputs": [],
   "source": [
    "trips_start_fare.info()"
   ]
  },
  {
   "cell_type": "code",
   "execution_count": null,
   "id": "93a0b7a6",
   "metadata": {},
   "outputs": [],
   "source": [
    "fig, ax = plt.subplots(figsize=(7, 7))\n",
    "trips_start_fare_geo.plot(column='mean_fare', cmap='viridis', linewidth=0.8, ax=ax, legend=True, legend_kwds={'label': \"Dollar\"}, missing_kwds={'color': 'lightgrey'})\n",
    "ax.set_title('Average Fare (in Dollar) by Hexagon')\n",
    "plt.show()"
   ]
  },
  {
   "cell_type": "markdown",
   "id": "85a1f91c",
   "metadata": {},
   "source": [
    "### Start and End Location"
   ]
  },
  {
   "cell_type": "markdown",
   "id": "60cc0815",
   "metadata": {},
   "source": [
    "#### Per Census Tract"
   ]
  },
  {
   "cell_type": "code",
   "execution_count": null,
   "id": "42b63e96",
   "metadata": {},
   "outputs": [],
   "source": [
    "# Count how many trips start and end in each census tract\n",
    "start_census_count = taxi_trips.groupby('start_census')['start_census'].count()\n",
    "start_census_count = pd.DataFrame(start_census_count)\n",
    "end_census_count = taxi_trips.groupby('end_census')['end_census'].count()\n",
    "end_census_count = pd.DataFrame(end_census_count)\n",
    "\n",
    "# Rename the column to make index to new column (otherwise not possible because of same name)\n",
    "start_census_count = start_census_count.rename(columns={\"start_census\": \"start_census_counts\"})\n",
    "start_census_count = start_census_count.reset_index()\n",
    "end_census_count = end_census_count.rename(columns={\"end_census\": \"end_census_counts\"})\n",
    "end_census_count = end_census_count.reset_index()\n",
    "# Rename end to start to facilitate the merge\n",
    "end_census_count = end_census_count.rename(columns={\"end_census\": \"start_census\"})\n",
    "\n",
    "start_census_count.info()\n",
    "end_census_count.info()"
   ]
  },
  {
   "cell_type": "code",
   "execution_count": null,
   "id": "2f9268fd",
   "metadata": {},
   "outputs": [],
   "source": [
    "# Merge census data with dataframe containing the number of trips for each census \n",
    "# (to get the surface for each tract even if there is no trip length data for it)\n",
    "merged_start = census_analysis.merge(start_census_count, how = 'left', on='start_census')\n",
    "merged_start.info()\n",
    "merged_end =census_analysis.merge(end_census_count, how = 'left', on='start_census')\n",
    "merged_end.info()\n",
    "\n",
    "census_analysis['start_census_counts'] = merged_start['start_census_counts']\n",
    "census_analysis['end_census_counts'] = merged_end['end_census_counts']\n",
    "\n",
    "census_analysis.info()"
   ]
  },
  {
   "cell_type": "code",
   "execution_count": null,
   "id": "cf5deb41",
   "metadata": {},
   "outputs": [],
   "source": [
    "# Plot number of started trips for each census tract\n",
    "fig, ax = plt.subplots(figsize=(10, 10))\n",
    "census_analysis.plot(column='start_census_counts', cmap='viridis', linewidth=0.8, ax=ax, legend=True, legend_kwds={'label': \"Amount\"}, missing_kwds={'color': 'lightgrey'})\n",
    "ax.set_title('Number of Trips that started in a Census Tract')\n",
    "plt.show()"
   ]
  },
  {
   "cell_type": "code",
   "execution_count": null,
   "id": "5a11e7fd",
   "metadata": {},
   "outputs": [],
   "source": [
    "# Plot number of ending trips for each census tract\n",
    "fig, ax = plt.subplots(figsize=(10, 10))\n",
    "census_analysis.plot(column='end_census_counts', cmap='viridis', linewidth=0.8, ax=ax, legend=True, legend_kwds={'label': \"Amount\"}, missing_kwds={'color': 'lightgrey'})\n",
    "ax.set_title('Number of Trips that ended in a Census Tract')\n",
    "plt.show()"
   ]
  },
  {
   "cell_type": "markdown",
   "id": "0341d596",
   "metadata": {},
   "source": [
    "#### Per Hexagon"
   ]
  },
  {
   "cell_type": "code",
   "execution_count": null,
   "id": "e4afc530",
   "metadata": {},
   "outputs": [],
   "source": [
    "trips_start_count = pd.DataFrame()\n",
    "trips_start_count = h3_taxi_trips.groupby('h3_hex_id_start').count()['index'].reset_index().rename(columns={'index': 'count_start'})\n",
    "trips_start_count['geometry'] = trips_start_count.apply(lambda x: Polygon(h3.h3_to_geo_boundary(x[\"h3_hex_id_start\"], geo_json=True)), axis=1)\n",
    "\n",
    "trips_start_count_geo = gpd.GeoDataFrame(trips_start_count, geometry=trips_start_count['geometry'], crs='EPSG:4326')"
   ]
  },
  {
   "cell_type": "code",
   "execution_count": null,
   "id": "eb7c760d",
   "metadata": {},
   "outputs": [],
   "source": [
    "trips_start_count.info()"
   ]
  },
  {
   "cell_type": "code",
   "execution_count": null,
   "id": "596708f8",
   "metadata": {},
   "outputs": [],
   "source": [
    "fig, ax = plt.subplots(figsize=(7, 7))\n",
    "trips_start_count_geo.plot(column='count_start', cmap='viridis', linewidth=0.8, ax=ax, legend=True, legend_kwds={'label': \"Amount\"}, missing_kwds={'color': 'lightgrey'})\n",
    "ax.set_title('Number of Trips that started in a Hexagon')\n",
    "plt.show()"
   ]
  },
  {
   "cell_type": "code",
   "execution_count": null,
   "id": "ef2e8bd0",
   "metadata": {},
   "outputs": [],
   "source": [
    "trips_end_count = pd.DataFrame()\n",
    "trips_end_count = h3_taxi_trips.groupby('h3_hex_id_end').count()['index'].reset_index().rename(columns={'index': 'count_end'})\n",
    "trips_end_count['geometry'] = trips_end_count.apply(lambda x: Polygon(h3.h3_to_geo_boundary(x[\"h3_hex_id_end\"], geo_json=True)), axis=1)\n",
    "\n",
    "trips_end_count_geo = gpd.GeoDataFrame(trips_end_count, geometry=trips_end_count['geometry'], crs='EPSG:4326')"
   ]
  },
  {
   "cell_type": "code",
   "execution_count": null,
   "id": "22518f8e",
   "metadata": {},
   "outputs": [],
   "source": [
    "trips_end_count.info()"
   ]
  },
  {
   "cell_type": "code",
   "execution_count": null,
   "id": "f4d68e40",
   "metadata": {},
   "outputs": [],
   "source": [
    "fig, ax = plt.subplots(figsize=(7, 7))\n",
    "trips_end_count_geo.plot(column='count_end', cmap='viridis', linewidth=0.8, ax=ax, legend=True, legend_kwds={'label': \"Amount\"}, missing_kwds={'color': 'lightgrey'})\n",
    "ax.set_title('Number of Trips that ended in a Hexagon')\n",
    "plt.show()"
   ]
  },
  {
   "cell_type": "markdown",
   "id": "b20cae31",
   "metadata": {},
   "source": [
    "### Start Time"
   ]
  },
  {
   "cell_type": "markdown",
   "id": "49962d6e",
   "metadata": {},
   "source": [
    "#### Per Census Tract"
   ]
  },
  {
   "cell_type": "code",
   "execution_count": null,
   "id": "4537b51d",
   "metadata": {},
   "outputs": [],
   "source": [
    "# Dataframe with only the hour, the weekday and the start and end census\n",
    "little_taxi_trips = taxi_trips[[\"start_census\",\"end_census\",\"hour\", \"weekday\"]]\n",
    "little_taxi_trips.info()"
   ]
  },
  {
   "cell_type": "code",
   "execution_count": null,
   "id": "b1753389",
   "metadata": {},
   "outputs": [],
   "source": [
    "# For Rushhour in the evening (16 pm to 20 pm) run code with this \n",
    "filtered_taxi_trips = little_taxi_trips[(little_taxi_trips[\"hour\"] > 15) & (little_taxi_trips[\"hour\"] < 21) & (little_taxi_trips[\"weekday\"] < 5)]\n",
    "\n",
    "\n",
    "# Filter dataframe to only include trips between 5 am and 9 am (rushhour) during the week\n",
    "#filtered_taxi_trips = little_taxi_trips[(little_taxi_trips[\"hour\"] > 4) & (little_taxi_trips[\"hour\"] < 10) & (little_taxi_trips[\"weekday\"] < 5)]\n",
    "filtered_taxi_trips.info()"
   ]
  },
  {
   "cell_type": "code",
   "execution_count": null,
   "id": "8a330ec6",
   "metadata": {},
   "outputs": [],
   "source": [
    "# Count how many trips start and end in each census tract in the given time interval\n",
    "start_census_count_morning = filtered_taxi_trips.groupby('start_census')['start_census'].count()\n",
    "start_census_count_morning = pd.DataFrame(start_census_count_morning)\n",
    "end_census_count_morning = filtered_taxi_trips.groupby('end_census')['end_census'].count()\n",
    "end_census_count_morning = pd.DataFrame(end_census_count_morning)\n",
    "\n",
    "# Rename the column to make index to new column (otherwise not possible because of same name)\n",
    "start_census_count_morning = start_census_count_morning.rename(columns={\"start_census\": \"start_census_counts_m\"})\n",
    "start_census_count_morning = start_census_count_morning.reset_index()\n",
    "end_census_count_morning = end_census_count_morning.rename(columns={\"end_census\": \"end_census_counts_m\"})\n",
    "end_census_count_morning = end_census_count_morning.reset_index()\n",
    "end_census_count_morning = end_census_count_morning.rename(columns={\"end_census\": \"start_census\"})\n",
    "\n",
    "start_census_count_morning.info()\n",
    "end_census_count_morning.info()"
   ]
  },
  {
   "cell_type": "code",
   "execution_count": null,
   "id": "279fe336",
   "metadata": {},
   "outputs": [],
   "source": [
    "# Merge census data with dataframe containing the number of trips for each census \n",
    "# (to get the surface for each tract even if there is no trip length data for it)\n",
    "merged_start_morning =census_analysis.merge(start_census_count_morning, how = 'left', on='start_census')\n",
    "merged_start_morning.info()\n",
    "merged_end_morning =census_analysis.merge(end_census_count_morning, how = 'left', on='start_census')\n",
    "merged_end_morning.info()\n",
    "\n",
    "census_analysis['start_census_counts_morning'] = merged_start_morning['start_census_counts_m']\n",
    "census_analysis['end_census_counts_morning'] = merged_end_morning['end_census_counts_m']\n",
    "\n",
    "census_analysis.info()"
   ]
  },
  {
   "cell_type": "code",
   "execution_count": null,
   "id": "bd952687",
   "metadata": {},
   "outputs": [],
   "source": [
    "# Plot number of started trips for each census tract in the morning rushhours\n",
    "fig, ax = plt.subplots(figsize=(10, 10))\n",
    "census_analysis.plot(column='start_census_counts_morning', cmap='viridis', linewidth=0.8, ax=ax, legend=True, legend_kwds={'label': \"Amount\"}, missing_kwds={'color': 'lightgrey'})\n",
    "ax.set_title('Number of Trips that started in a Census Tract between 5 am and 9 am during the week')\n",
    "plt.show()"
   ]
  },
  {
   "cell_type": "code",
   "execution_count": null,
   "id": "43d4fdac",
   "metadata": {},
   "outputs": [],
   "source": [
    "# Plot number of started trips for each census tract in the morning rushhours\n",
    "fig, ax = plt.subplots(figsize=(10, 10))\n",
    "census_analysis.plot(column='end_census_counts_morning', cmap='viridis', linewidth=0.8, ax=ax, legend=True, legend_kwds={'label': \"Amount\"}, missing_kwds={'color': 'lightgrey'})\n",
    "ax.set_title('Number of Trips that ended in a Census Tract between 5 am and 9 am during the week')\n",
    "plt.show()"
   ]
  },
  {
   "cell_type": "code",
   "execution_count": null,
   "id": "b088dc5a",
   "metadata": {},
   "outputs": [],
   "source": [
    "# Create a figure with a grid layout to compare the start and end census tracts\n",
    "fig = plt.figure(figsize=(10, 10))\n",
    "grid = fig.add_gridspec(ncols=2, nrows=2, width_ratios=[1, 1], height_ratios=[15, 0.4])\n",
    "\n",
    "# Plot number of trips that started in each census tract in the morning rush hours\n",
    "ax2 = fig.add_subplot(grid[0, 1])\n",
    "start_census_plot = census_analysis.plot(column='start_census_counts_morning', cmap='viridis', linewidth=0.8, ax=ax2, legend=False, missing_kwds={'color': 'lightgrey'})\n",
    "#ax2.set_title('Number of Trips that started in a Census Tract between 5 am and 9 am during the week')\n",
    "\n",
    "# Plot number of trips that ended in each census tract in the morning rush hours\n",
    "ax1 = fig.add_subplot(grid[0, 0])\n",
    "end_census_plot = census_analysis.plot(column='end_census_counts_morning', cmap='viridis', linewidth=0.8, ax=ax1, legend=False, missing_kwds={'color': 'lightgrey'})\n",
    "#ax1.set_title('Number of Trips that ended in a Census Tract between 5 am and 9 am during the week')\n",
    "\n",
    "# Create a colorbar\n",
    "cax = fig.add_subplot(grid[1, :])\n",
    "cmap = plt.cm.viridis\n",
    "norm = colors.Normalize(vmin=min(census_analysis['start_census_counts_morning'].min(), census_analysis['end_census_counts_morning'].min()), vmax=max(census_analysis['start_census_counts_morning'].max(), census_analysis['end_census_counts_morning'].max()))\n",
    "sm = plt.cm.ScalarMappable(cmap=cmap, norm=norm)\n",
    "sm.set_array([])\n",
    "fig.colorbar(sm, cax=cax, orientation='horizontal', label='Amount')\n",
    "\n",
    "# Adjust spacing between subplots\n",
    "plt.subplots_adjust(hspace=0.01)\n",
    "\n",
    "# Display the plot\n",
    "plt.show()"
   ]
  },
  {
   "cell_type": "markdown",
   "id": "c9ef2f15",
   "metadata": {},
   "source": [
    "#### Per Hexagon"
   ]
  },
  {
   "cell_type": "code",
   "execution_count": null,
   "id": "0b7d0745",
   "metadata": {},
   "outputs": [],
   "source": [
    "# For Rushhour in the evening (16 pm to 20 pm) run code with this \n",
    "filtered_h3_taxi_trips = h3_taxi_trips[(h3_taxi_trips[\"hour\"] > 15) & (h3_taxi_trips[\"hour\"] < 21) & (h3_taxi_trips[\"weekday\"] < 5)]\n",
    "\n",
    "\n",
    "# Filter dataframe to only include trips between 5 am and 9 am (rushhour) during the week\n",
    "#filtered_h3_taxi_trips = h3_taxi_trips[(h3_taxi_trips[\"hour\"] > 4) & (h3_taxi_trips[\"hour\"] < 10) & (h3_taxi_trips[\"weekday\"] < 5)]\n",
    "filtered_h3_taxi_trips.info()"
   ]
  },
  {
   "cell_type": "code",
   "execution_count": null,
   "id": "83b213f8",
   "metadata": {},
   "outputs": [],
   "source": [
    "# For Start Hexagon\n",
    "trips_start_count_m = pd.DataFrame()\n",
    "trips_start_count_m = filtered_h3_taxi_trips.groupby('h3_hex_id_start').count()['index'].reset_index().rename(columns={'index': 'count_start_m'})\n",
    "trips_start_count_m['geometry'] = trips_start_count.apply(lambda x: Polygon(h3.h3_to_geo_boundary(x[\"h3_hex_id_start\"], geo_json=True)), axis=1)\n",
    "\n",
    "trips_start_count_m_geo = gpd.GeoDataFrame(trips_start_count_m, geometry=trips_start_count_m['geometry'], crs='EPSG:4326')"
   ]
  },
  {
   "cell_type": "code",
   "execution_count": null,
   "id": "a9612c38",
   "metadata": {},
   "outputs": [],
   "source": [
    "trips_start_count_m.info()"
   ]
  },
  {
   "cell_type": "code",
   "execution_count": null,
   "id": "c2910d68",
   "metadata": {},
   "outputs": [],
   "source": [
    "fig, ax = plt.subplots(figsize=(7, 7))\n",
    "trips_start_count__m_geo.plot(column='count_start_m', cmap='viridis', linewidth=0.8, ax=ax, legend=True, legend_kwds={'label': \"Amount\"}, missing_kwds={'color': 'lightgrey'})\n",
    "ax.set_title('Number of Trips that started in a Hexagon between 5 am and 9 am during the week')\n",
    "plt.show()"
   ]
  },
  {
   "cell_type": "code",
   "execution_count": null,
   "id": "c834d89f",
   "metadata": {},
   "outputs": [],
   "source": [
    "# For End Hexagon\n",
    "trips_end_count_m = pd.DataFrame()\n",
    "trips_end_count_m = filtered_h3_taxi_trips.groupby('h3_hex_id_end').count()['index'].reset_index().rename(columns={'index': 'count_end_m'})\n",
    "trips_end_count_m['geometry'] = trips_end_count.apply(lambda x: Polygon(h3.h3_to_geo_boundary(x[\"h3_hex_id_end\"], geo_json=True)), axis=1)\n",
    "\n",
    "trips_end_count_m_geo = gpd.GeoDataFrame(trips_end_count_m, geometry=trips_end_count_m['geometry'], crs='EPSG:4326')"
   ]
  },
  {
   "cell_type": "code",
   "execution_count": null,
   "id": "81866df5",
   "metadata": {},
   "outputs": [],
   "source": [
    "trips_end_count_m.info()"
   ]
  },
  {
   "cell_type": "code",
   "execution_count": null,
   "id": "63a8955b",
   "metadata": {},
   "outputs": [],
   "source": [
    "fig, ax = plt.subplots(figsize=(7, 7))\n",
    "trips_end_count__m_geo.plot(column='count_end_m', cmap='viridis', linewidth=0.8, ax=ax, legend=True, legend_kwds={'label': \"Amount\"}, missing_kwds={'color': 'lightgrey'})\n",
    "ax.set_title('Number of Trips that ended in a Hexagon between 5 am and 9 am during the week')\n",
    "plt.show()"
   ]
  }
 ],
 "metadata": {
  "kernelspec": {
   "display_name": "Python 3 (ipykernel)",
   "language": "python",
   "name": "python3"
  },
  "language_info": {
   "codemirror_mode": {
    "name": "ipython",
    "version": 3
   },
   "file_extension": ".py",
   "mimetype": "text/x-python",
   "name": "python",
   "nbconvert_exporter": "python",
   "pygments_lexer": "ipython3",
   "version": "3.10.9"
  }
 },
 "nbformat": 4,
 "nbformat_minor": 5
}
