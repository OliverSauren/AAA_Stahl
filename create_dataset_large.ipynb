{
 "cells": [
  {
   "cell_type": "code",
   "execution_count": 1,
   "id": "4274537a",
   "metadata": {},
   "outputs": [],
   "source": [
    "import pandas as pd\n",
    "import numpy as np\n",
    "import seaborn as sns\n",
    "import matplotlib.pyplot as plt"
   ]
  },
  {
   "cell_type": "code",
   "execution_count": null,
   "id": "0e2b4d08",
   "metadata": {},
   "outputs": [],
   "source": [
    "df=pd.read_csv('taxi_19_may_es.csv')\n",
    "df['Trips Total']=df[['Fare','Tips','Tolls','Extras']].sum(axis=1)"
   ]
  },
  {
   "cell_type": "code",
   "execution_count": null,
   "id": "95810b3c",
   "metadata": {},
   "outputs": [],
   "source": [
    "#kann man ausfuehren, muss man aber nicht\n",
    "df['date']=df['Trip Start Timestamp'].apply(lambda d: pd.to_datetime(d).floor('d'))\n",
    "df['hour']=df['Trip Start Timestamp'].apply(lambda h: h.hour)\n",
    "df['day']=df['Trip Start Timestamp'].apply(lambda d: d.day)\n",
    "df['weekday']=df['Trip Start Timestamp'].apply(lambda w: w.dayofweek)\n",
    "df['month']=df['Trip Start Timestamp'].apply(lambda m: m.month)"
   ]
  },
  {
   "cell_type": "code",
   "execution_count": null,
   "id": "36bab53b",
   "metadata": {},
   "outputs": [],
   "source": [
    "#kann man ausfuerhren, muss man aber nicht\n",
    "df['dur_min']=df['Trip Seconds'].apply(lambda x:round(x/60,2))"
   ]
  },
  {
   "cell_type": "code",
   "execution_count": null,
   "id": "6d14537f",
   "metadata": {},
   "outputs": [],
   "source": [
    "#hier werden die census tract sachen geloescht, kp warum man die b\n",
    "#df=df.drop(['Pickup Census Tract','Dropoff Census Tract','Pickup Community Area','Dropoff Community Area'])"
   ]
  }
 ],
 "metadata": {
  "kernelspec": {
   "display_name": "Python 3",
   "language": "python",
   "name": "python3"
  },
  "language_info": {
   "codemirror_mode": {
    "name": "ipython",
    "version": 3
   },
   "file_extension": ".py",
   "mimetype": "text/x-python",
   "name": "python",
   "nbconvert_exporter": "python",
   "pygments_lexer": "ipython3",
   "version": "3.8.8"
  }
 },
 "nbformat": 4,
 "nbformat_minor": 5
}
